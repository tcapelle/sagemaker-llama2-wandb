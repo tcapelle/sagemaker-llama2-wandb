{
 "cells": [
  {
   "cell_type": "code",
   "execution_count": 4,
   "id": "9f16e594-1ba8-4caf-8127-30d3a51c5790",
   "metadata": {
    "tags": []
   },
   "outputs": [
    {
     "name": "stdout",
     "output_type": "stream",
     "text": [
      "\u001b[31mERROR: pip's dependency resolver does not currently take into account all the packages that are installed. This behaviour is the source of the following dependency conflicts.\n",
      "distributed 2022.7.0 requires tornado<6.2,>=6.0.3, but you have tornado 6.3.3 which is incompatible.\u001b[0m\u001b[31m\n",
      "\u001b[0m"
     ]
    }
   ],
   "source": [
    "!pip install -qqqU sagemaker wandb datasets transformers"
   ]
  },
  {
   "cell_type": "markdown",
   "id": "75f2b7e0-dab7-46aa-b287-9721efb8dae3",
   "metadata": {},
   "source": [
    "## Preparing Data"
   ]
  },
  {
   "cell_type": "markdown",
   "id": "04ca2daa-0c44-4ac1-ba98-1d70f87fd3e8",
   "metadata": {},
   "source": [
    "A big part of training LLMs lives in getting the data formatted correctly!"
   ]
  },
  {
   "cell_type": "code",
   "execution_count": 90,
   "id": "8d607bff-cbbd-4554-822f-a0fbabe0c659",
   "metadata": {
    "tags": []
   },
   "outputs": [],
   "source": [
    "import json\n",
    "import wandb\n",
    "from itertools import chain\n",
    "\n",
    "api = wandb.Api()\n",
    "question_artifacts = api.artifact(\"wandbot/wandbot-eval/run-kinbxic4-responses:v0\")\n",
    "\n",
    "with open(question_artifacts.file()) as f:\n",
    "    data = json.load(f)\n",
    "\n",
    "columns = data[\"columns\"]\n",
    "data = data[\"data\"]\n",
    "eval_df = pd.DataFrame(data, columns=columns)"
   ]
  },
  {
   "cell_type": "code",
   "execution_count": 91,
   "id": "6c78e291-ce2d-4061-9720-71f8bdf317ab",
   "metadata": {
    "tags": []
   },
   "outputs": [
    {
     "data": {
      "text/html": [
       "<div>\n",
       "<style scoped>\n",
       "    .dataframe tbody tr th:only-of-type {\n",
       "        vertical-align: middle;\n",
       "    }\n",
       "\n",
       "    .dataframe tbody tr th {\n",
       "        vertical-align: top;\n",
       "    }\n",
       "\n",
       "    .dataframe thead th {\n",
       "        text-align: right;\n",
       "    }\n",
       "</style>\n",
       "<table border=\"1\" class=\"dataframe\">\n",
       "  <thead>\n",
       "    <tr style=\"text-align: right;\">\n",
       "      <th></th>\n",
       "      <th>query</th>\n",
       "      <th>retrieved_context</th>\n",
       "      <th>generated_response</th>\n",
       "    </tr>\n",
       "  </thead>\n",
       "  <tbody>\n",
       "    <tr>\n",
       "      <th>0</th>\n",
       "      <td>Hey I have a question about using wandb with f...</td>\n",
       "      <td>[`wandb.init()` returns a run object, and you ...</td>\n",
       "      <td>The initialization of `wandb.init()` should be...</td>\n",
       "    </tr>\n",
       "    <tr>\n",
       "      <th>1</th>\n",
       "      <td>Hey with wandb is it possible to link from the...</td>\n",
       "      <td>[### How do I best log models from runs in a s...</td>\n",
       "      <td>Yes, you can link to the best run from a sweep...</td>\n",
       "    </tr>\n",
       "    <tr>\n",
       "      <th>2</th>\n",
       "      <td>I am training a spacy textcat model. This proc...</td>\n",
       "      <td>[### Model Architecture\\n\\nOur config also def...</td>\n",
       "      <td>To log the best model's metrics instead of the...</td>\n",
       "    </tr>\n",
       "    <tr>\n",
       "      <th>3</th>\n",
       "      <td>Explain how I can version datasets with Weight...</td>\n",
       "      <td>[ # A 3-in-1 Intro to Weights &amp; Biases: Comput...</td>\n",
       "      <td>Weights &amp; Biases provides a feature called Art...</td>\n",
       "    </tr>\n",
       "    <tr>\n",
       "      <th>4</th>\n",
       "      <td>I'm using   env = SubprocVecEnv(\\n        [mak...</td>\n",
       "      <td>[## WandbCallback 引数\\n\\n| 引数 | 使用法 | | --- | -...</td>\n",
       "      <td>To record a video for a specific subprocess en...</td>\n",
       "    </tr>\n",
       "  </tbody>\n",
       "</table>\n",
       "</div>"
      ],
      "text/plain": [
       "                                               query  \\\n",
       "0  Hey I have a question about using wandb with f...   \n",
       "1  Hey with wandb is it possible to link from the...   \n",
       "2  I am training a spacy textcat model. This proc...   \n",
       "3  Explain how I can version datasets with Weight...   \n",
       "4  I'm using   env = SubprocVecEnv(\\n        [mak...   \n",
       "\n",
       "                                   retrieved_context  \\\n",
       "0  [`wandb.init()` returns a run object, and you ...   \n",
       "1  [### How do I best log models from runs in a s...   \n",
       "2  [### Model Architecture\\n\\nOur config also def...   \n",
       "3  [ # A 3-in-1 Intro to Weights & Biases: Comput...   \n",
       "4  [## WandbCallback 引数\\n\\n| 引数 | 使用法 | | --- | -...   \n",
       "\n",
       "                                  generated_response  \n",
       "0  The initialization of `wandb.init()` should be...  \n",
       "1  Yes, you can link to the best run from a sweep...  \n",
       "2  To log the best model's metrics instead of the...  \n",
       "3  Weights & Biases provides a feature called Art...  \n",
       "4  To record a video for a specific subprocess en...  "
      ]
     },
     "execution_count": 91,
     "metadata": {},
     "output_type": "execute_result"
    }
   ],
   "source": [
    "eval_df.head()"
   ]
  },
  {
   "cell_type": "markdown",
   "id": "10cc83d0-7a12-4b4b-8b26-64caf30eab57",
   "metadata": {},
   "source": [
    "Let's remove retrieved Japanese text"
   ]
  },
  {
   "cell_type": "code",
   "execution_count": 92,
   "id": "fee50101-b6a7-4e08-ab2f-e426b5e9840c",
   "metadata": {
    "tags": []
   },
   "outputs": [],
   "source": [
    "def contains_japanese(text):\n",
    "    for char in text:\n",
    "        if '一' <= char <= '龥':\n",
    "            return True\n",
    "    return False"
   ]
  },
  {
   "cell_type": "code",
   "execution_count": 93,
   "id": "365bff6a-c0bc-4765-8044-854df497d29b",
   "metadata": {
    "tags": []
   },
   "outputs": [],
   "source": [
    "s = \"## WandbCallback 引数\\n\\n| 引数 | 使用法 |\""
   ]
  },
  {
   "cell_type": "code",
   "execution_count": 94,
   "id": "addabb0a-5569-4c26-9b29-17484a20832d",
   "metadata": {
    "tags": []
   },
   "outputs": [],
   "source": [
    "eval_df[\"retrieved_context_en\"] = [[ctx for ctx in ctxs if not contains_japanese(ctx)] for ctxs in eval_df.retrieved_context.values]"
   ]
  },
  {
   "cell_type": "code",
   "execution_count": 95,
   "id": "cd18bd4e-aeb5-4ac7-a547-08252188b048",
   "metadata": {
    "tags": []
   },
   "outputs": [
    {
     "data": {
      "text/html": [
       "<div>\n",
       "<style scoped>\n",
       "    .dataframe tbody tr th:only-of-type {\n",
       "        vertical-align: middle;\n",
       "    }\n",
       "\n",
       "    .dataframe tbody tr th {\n",
       "        vertical-align: top;\n",
       "    }\n",
       "\n",
       "    .dataframe thead th {\n",
       "        text-align: right;\n",
       "    }\n",
       "</style>\n",
       "<table border=\"1\" class=\"dataframe\">\n",
       "  <thead>\n",
       "    <tr style=\"text-align: right;\">\n",
       "      <th></th>\n",
       "      <th>query</th>\n",
       "      <th>retrieved_context</th>\n",
       "      <th>generated_response</th>\n",
       "      <th>retrieved_context_en</th>\n",
       "    </tr>\n",
       "  </thead>\n",
       "  <tbody>\n",
       "    <tr>\n",
       "      <th>0</th>\n",
       "      <td>Hey I have a question about using wandb with f...</td>\n",
       "      <td>[`wandb.init()` returns a run object, and you ...</td>\n",
       "      <td>The initialization of `wandb.init()` should be...</td>\n",
       "      <td>[`wandb.init()` returns a run object, and you ...</td>\n",
       "    </tr>\n",
       "    <tr>\n",
       "      <th>1</th>\n",
       "      <td>Hey with wandb is it possible to link from the...</td>\n",
       "      <td>[### How do I best log models from runs in a s...</td>\n",
       "      <td>Yes, you can link to the best run from a sweep...</td>\n",
       "      <td>[### How do I best log models from runs in a s...</td>\n",
       "    </tr>\n",
       "    <tr>\n",
       "      <th>2</th>\n",
       "      <td>I am training a spacy textcat model. This proc...</td>\n",
       "      <td>[### Model Architecture\\n\\nOur config also def...</td>\n",
       "      <td>To log the best model's metrics instead of the...</td>\n",
       "      <td>[### Model Architecture\\n\\nOur config also def...</td>\n",
       "    </tr>\n",
       "    <tr>\n",
       "      <th>3</th>\n",
       "      <td>Explain how I can version datasets with Weight...</td>\n",
       "      <td>[ # A 3-in-1 Intro to Weights &amp; Biases: Comput...</td>\n",
       "      <td>Weights &amp; Biases provides a feature called Art...</td>\n",
       "      <td>[ # A 3-in-1 Intro to Weights &amp; Biases: Comput...</td>\n",
       "    </tr>\n",
       "    <tr>\n",
       "      <th>4</th>\n",
       "      <td>I'm using   env = SubprocVecEnv(\\n        [mak...</td>\n",
       "      <td>[## WandbCallback 引数\\n\\n| 引数 | 使用法 | | --- | -...</td>\n",
       "      <td>To record a video for a specific subprocess en...</td>\n",
       "      <td>[## Basic Example\\n\\nThe W&amp;B SB3 integration u...</td>\n",
       "    </tr>\n",
       "  </tbody>\n",
       "</table>\n",
       "</div>"
      ],
      "text/plain": [
       "                                               query  \\\n",
       "0  Hey I have a question about using wandb with f...   \n",
       "1  Hey with wandb is it possible to link from the...   \n",
       "2  I am training a spacy textcat model. This proc...   \n",
       "3  Explain how I can version datasets with Weight...   \n",
       "4  I'm using   env = SubprocVecEnv(\\n        [mak...   \n",
       "\n",
       "                                   retrieved_context  \\\n",
       "0  [`wandb.init()` returns a run object, and you ...   \n",
       "1  [### How do I best log models from runs in a s...   \n",
       "2  [### Model Architecture\\n\\nOur config also def...   \n",
       "3  [ # A 3-in-1 Intro to Weights & Biases: Comput...   \n",
       "4  [## WandbCallback 引数\\n\\n| 引数 | 使用法 | | --- | -...   \n",
       "\n",
       "                                  generated_response  \\\n",
       "0  The initialization of `wandb.init()` should be...   \n",
       "1  Yes, you can link to the best run from a sweep...   \n",
       "2  To log the best model's metrics instead of the...   \n",
       "3  Weights & Biases provides a feature called Art...   \n",
       "4  To record a video for a specific subprocess en...   \n",
       "\n",
       "                                retrieved_context_en  \n",
       "0  [`wandb.init()` returns a run object, and you ...  \n",
       "1  [### How do I best log models from runs in a s...  \n",
       "2  [### Model Architecture\\n\\nOur config also def...  \n",
       "3  [ # A 3-in-1 Intro to Weights & Biases: Comput...  \n",
       "4  [## Basic Example\\n\\nThe W&B SB3 integration u...  "
      ]
     },
     "execution_count": 95,
     "metadata": {},
     "output_type": "execute_result"
    }
   ],
   "source": [
    "eval_df.head()"
   ]
  },
  {
   "cell_type": "code",
   "execution_count": 96,
   "id": "12b8732a-e42e-4f19-b8ee-baceb673f32d",
   "metadata": {
    "tags": []
   },
   "outputs": [],
   "source": [
    "eval_df[\"retrieved_context_stuff\"] = [\"\\n\".join(ctxs) for ctxs in eval_df.retrieved_context_en.values]"
   ]
  },
  {
   "cell_type": "code",
   "execution_count": 97,
   "id": "14459a92-98fe-4674-9e8a-7afdaf7c1095",
   "metadata": {
    "tags": []
   },
   "outputs": [
    {
     "data": {
      "text/html": [
       "<div>\n",
       "<style scoped>\n",
       "    .dataframe tbody tr th:only-of-type {\n",
       "        vertical-align: middle;\n",
       "    }\n",
       "\n",
       "    .dataframe tbody tr th {\n",
       "        vertical-align: top;\n",
       "    }\n",
       "\n",
       "    .dataframe thead th {\n",
       "        text-align: right;\n",
       "    }\n",
       "</style>\n",
       "<table border=\"1\" class=\"dataframe\">\n",
       "  <thead>\n",
       "    <tr style=\"text-align: right;\">\n",
       "      <th></th>\n",
       "      <th>query</th>\n",
       "      <th>retrieved_context</th>\n",
       "      <th>generated_response</th>\n",
       "      <th>retrieved_context_en</th>\n",
       "      <th>retrieved_context_stuff</th>\n",
       "    </tr>\n",
       "  </thead>\n",
       "  <tbody>\n",
       "    <tr>\n",
       "      <th>0</th>\n",
       "      <td>Hey I have a question about using wandb with f...</td>\n",
       "      <td>[`wandb.init()` returns a run object, and you ...</td>\n",
       "      <td>The initialization of `wandb.init()` should be...</td>\n",
       "      <td>[`wandb.init()` returns a run object, and you ...</td>\n",
       "      <td>`wandb.init()` returns a run object, and you c...</td>\n",
       "    </tr>\n",
       "    <tr>\n",
       "      <th>1</th>\n",
       "      <td>Hey with wandb is it possible to link from the...</td>\n",
       "      <td>[### How do I best log models from runs in a s...</td>\n",
       "      <td>Yes, you can link to the best run from a sweep...</td>\n",
       "      <td>[### How do I best log models from runs in a s...</td>\n",
       "      <td>### How do I best log models from runs in a sw...</td>\n",
       "    </tr>\n",
       "    <tr>\n",
       "      <th>2</th>\n",
       "      <td>I am training a spacy textcat model. This proc...</td>\n",
       "      <td>[### Model Architecture\\n\\nOur config also def...</td>\n",
       "      <td>To log the best model's metrics instead of the...</td>\n",
       "      <td>[### Model Architecture\\n\\nOur config also def...</td>\n",
       "      <td>### Model Architecture\\n\\nOur config also defi...</td>\n",
       "    </tr>\n",
       "    <tr>\n",
       "      <th>3</th>\n",
       "      <td>Explain how I can version datasets with Weight...</td>\n",
       "      <td>[ # A 3-in-1 Intro to Weights &amp; Biases: Comput...</td>\n",
       "      <td>Weights &amp; Biases provides a feature called Art...</td>\n",
       "      <td>[ # A 3-in-1 Intro to Weights &amp; Biases: Comput...</td>\n",
       "      <td># A 3-in-1 Intro to Weights &amp; Biases: Compute...</td>\n",
       "    </tr>\n",
       "    <tr>\n",
       "      <th>4</th>\n",
       "      <td>I'm using   env = SubprocVecEnv(\\n        [mak...</td>\n",
       "      <td>[## WandbCallback 引数\\n\\n| 引数 | 使用法 | | --- | -...</td>\n",
       "      <td>To record a video for a specific subprocess en...</td>\n",
       "      <td>[## Basic Example\\n\\nThe W&amp;B SB3 integration u...</td>\n",
       "      <td>## Basic Example\\n\\nThe W&amp;B SB3 integration us...</td>\n",
       "    </tr>\n",
       "  </tbody>\n",
       "</table>\n",
       "</div>"
      ],
      "text/plain": [
       "                                               query  \\\n",
       "0  Hey I have a question about using wandb with f...   \n",
       "1  Hey with wandb is it possible to link from the...   \n",
       "2  I am training a spacy textcat model. This proc...   \n",
       "3  Explain how I can version datasets with Weight...   \n",
       "4  I'm using   env = SubprocVecEnv(\\n        [mak...   \n",
       "\n",
       "                                   retrieved_context  \\\n",
       "0  [`wandb.init()` returns a run object, and you ...   \n",
       "1  [### How do I best log models from runs in a s...   \n",
       "2  [### Model Architecture\\n\\nOur config also def...   \n",
       "3  [ # A 3-in-1 Intro to Weights & Biases: Comput...   \n",
       "4  [## WandbCallback 引数\\n\\n| 引数 | 使用法 | | --- | -...   \n",
       "\n",
       "                                  generated_response  \\\n",
       "0  The initialization of `wandb.init()` should be...   \n",
       "1  Yes, you can link to the best run from a sweep...   \n",
       "2  To log the best model's metrics instead of the...   \n",
       "3  Weights & Biases provides a feature called Art...   \n",
       "4  To record a video for a specific subprocess en...   \n",
       "\n",
       "                                retrieved_context_en  \\\n",
       "0  [`wandb.init()` returns a run object, and you ...   \n",
       "1  [### How do I best log models from runs in a s...   \n",
       "2  [### Model Architecture\\n\\nOur config also def...   \n",
       "3  [ # A 3-in-1 Intro to Weights & Biases: Comput...   \n",
       "4  [## Basic Example\\n\\nThe W&B SB3 integration u...   \n",
       "\n",
       "                             retrieved_context_stuff  \n",
       "0  `wandb.init()` returns a run object, and you c...  \n",
       "1  ### How do I best log models from runs in a sw...  \n",
       "2  ### Model Architecture\\n\\nOur config also defi...  \n",
       "3   # A 3-in-1 Intro to Weights & Biases: Compute...  \n",
       "4  ## Basic Example\\n\\nThe W&B SB3 integration us...  "
      ]
     },
     "execution_count": 97,
     "metadata": {},
     "output_type": "execute_result"
    }
   ],
   "source": [
    "eval_df.head()"
   ]
  },
  {
   "cell_type": "code",
   "execution_count": 98,
   "id": "61dd549f-1923-4e81-ba84-a5fa5dcbb297",
   "metadata": {
    "tags": []
   },
   "outputs": [],
   "source": [
    "eval_df = eval_df.assign(tokens = eval_df['retrieved_context_stuff'].str.len())"
   ]
  },
  {
   "cell_type": "code",
   "execution_count": 99,
   "id": "a37a312e-08cf-4406-99d5-87342709dcc7",
   "metadata": {
    "tags": []
   },
   "outputs": [
    {
     "data": {
      "text/html": [
       "<div>\n",
       "<style scoped>\n",
       "    .dataframe tbody tr th:only-of-type {\n",
       "        vertical-align: middle;\n",
       "    }\n",
       "\n",
       "    .dataframe tbody tr th {\n",
       "        vertical-align: top;\n",
       "    }\n",
       "\n",
       "    .dataframe thead th {\n",
       "        text-align: right;\n",
       "    }\n",
       "</style>\n",
       "<table border=\"1\" class=\"dataframe\">\n",
       "  <thead>\n",
       "    <tr style=\"text-align: right;\">\n",
       "      <th></th>\n",
       "      <th>query</th>\n",
       "      <th>retrieved_context</th>\n",
       "      <th>generated_response</th>\n",
       "      <th>retrieved_context_en</th>\n",
       "      <th>retrieved_context_stuff</th>\n",
       "      <th>tokens</th>\n",
       "    </tr>\n",
       "  </thead>\n",
       "  <tbody>\n",
       "    <tr>\n",
       "      <th>0</th>\n",
       "      <td>Hey I have a question about using wandb with f...</td>\n",
       "      <td>[`wandb.init()` returns a run object, and you ...</td>\n",
       "      <td>The initialization of `wandb.init()` should be...</td>\n",
       "      <td>[`wandb.init()` returns a run object, and you ...</td>\n",
       "      <td>`wandb.init()` returns a run object, and you c...</td>\n",
       "      <td>15505</td>\n",
       "    </tr>\n",
       "    <tr>\n",
       "      <th>1</th>\n",
       "      <td>Hey with wandb is it possible to link from the...</td>\n",
       "      <td>[### How do I best log models from runs in a s...</td>\n",
       "      <td>Yes, you can link to the best run from a sweep...</td>\n",
       "      <td>[### How do I best log models from runs in a s...</td>\n",
       "      <td>### How do I best log models from runs in a sw...</td>\n",
       "      <td>13161</td>\n",
       "    </tr>\n",
       "    <tr>\n",
       "      <th>2</th>\n",
       "      <td>I am training a spacy textcat model. This proc...</td>\n",
       "      <td>[### Model Architecture\\n\\nOur config also def...</td>\n",
       "      <td>To log the best model's metrics instead of the...</td>\n",
       "      <td>[### Model Architecture\\n\\nOur config also def...</td>\n",
       "      <td>### Model Architecture\\n\\nOur config also defi...</td>\n",
       "      <td>17812</td>\n",
       "    </tr>\n",
       "    <tr>\n",
       "      <th>3</th>\n",
       "      <td>Explain how I can version datasets with Weight...</td>\n",
       "      <td>[ # A 3-in-1 Intro to Weights &amp; Biases: Comput...</td>\n",
       "      <td>Weights &amp; Biases provides a feature called Art...</td>\n",
       "      <td>[ # A 3-in-1 Intro to Weights &amp; Biases: Comput...</td>\n",
       "      <td># A 3-in-1 Intro to Weights &amp; Biases: Compute...</td>\n",
       "      <td>12755</td>\n",
       "    </tr>\n",
       "    <tr>\n",
       "      <th>4</th>\n",
       "      <td>I'm using   env = SubprocVecEnv(\\n        [mak...</td>\n",
       "      <td>[## WandbCallback 引数\\n\\n| 引数 | 使用法 | | --- | -...</td>\n",
       "      <td>To record a video for a specific subprocess en...</td>\n",
       "      <td>[## Basic Example\\n\\nThe W&amp;B SB3 integration u...</td>\n",
       "      <td>## Basic Example\\n\\nThe W&amp;B SB3 integration us...</td>\n",
       "      <td>15480</td>\n",
       "    </tr>\n",
       "  </tbody>\n",
       "</table>\n",
       "</div>"
      ],
      "text/plain": [
       "                                               query  \\\n",
       "0  Hey I have a question about using wandb with f...   \n",
       "1  Hey with wandb is it possible to link from the...   \n",
       "2  I am training a spacy textcat model. This proc...   \n",
       "3  Explain how I can version datasets with Weight...   \n",
       "4  I'm using   env = SubprocVecEnv(\\n        [mak...   \n",
       "\n",
       "                                   retrieved_context  \\\n",
       "0  [`wandb.init()` returns a run object, and you ...   \n",
       "1  [### How do I best log models from runs in a s...   \n",
       "2  [### Model Architecture\\n\\nOur config also def...   \n",
       "3  [ # A 3-in-1 Intro to Weights & Biases: Comput...   \n",
       "4  [## WandbCallback 引数\\n\\n| 引数 | 使用法 | | --- | -...   \n",
       "\n",
       "                                  generated_response  \\\n",
       "0  The initialization of `wandb.init()` should be...   \n",
       "1  Yes, you can link to the best run from a sweep...   \n",
       "2  To log the best model's metrics instead of the...   \n",
       "3  Weights & Biases provides a feature called Art...   \n",
       "4  To record a video for a specific subprocess en...   \n",
       "\n",
       "                                retrieved_context_en  \\\n",
       "0  [`wandb.init()` returns a run object, and you ...   \n",
       "1  [### How do I best log models from runs in a s...   \n",
       "2  [### Model Architecture\\n\\nOur config also def...   \n",
       "3  [ # A 3-in-1 Intro to Weights & Biases: Comput...   \n",
       "4  [## Basic Example\\n\\nThe W&B SB3 integration u...   \n",
       "\n",
       "                             retrieved_context_stuff  tokens  \n",
       "0  `wandb.init()` returns a run object, and you c...   15505  \n",
       "1  ### How do I best log models from runs in a sw...   13161  \n",
       "2  ### Model Architecture\\n\\nOur config also defi...   17812  \n",
       "3   # A 3-in-1 Intro to Weights & Biases: Compute...   12755  \n",
       "4  ## Basic Example\\n\\nThe W&B SB3 integration us...   15480  "
      ]
     },
     "execution_count": 99,
     "metadata": {},
     "output_type": "execute_result"
    }
   ],
   "source": [
    "eval_df.head()"
   ]
  },
  {
   "cell_type": "code",
   "execution_count": 107,
   "id": "24f78893-9828-4c35-b5e6-a84b5a32134b",
   "metadata": {
    "tags": []
   },
   "outputs": [],
   "source": [
    "eval_df = eval_df[[\"query\", \"generated_response\", \"retrieved_context_stuff\", \"tokens\"]]"
   ]
  },
  {
   "cell_type": "code",
   "execution_count": 108,
   "id": "70e8f2c5-1c1a-4cc7-9419-bf2e8749cb9c",
   "metadata": {
    "tags": []
   },
   "outputs": [],
   "source": [
    "eval_df.columns = [\"question\", \"answer\", \"retrieved_context\", \"char_len\"]"
   ]
  },
  {
   "cell_type": "code",
   "execution_count": 109,
   "id": "79fa4de5-5c6e-4b73-aaa5-4dd528dec187",
   "metadata": {
    "tags": []
   },
   "outputs": [
    {
     "data": {
      "text/html": [
       "<div>\n",
       "<style scoped>\n",
       "    .dataframe tbody tr th:only-of-type {\n",
       "        vertical-align: middle;\n",
       "    }\n",
       "\n",
       "    .dataframe tbody tr th {\n",
       "        vertical-align: top;\n",
       "    }\n",
       "\n",
       "    .dataframe thead th {\n",
       "        text-align: right;\n",
       "    }\n",
       "</style>\n",
       "<table border=\"1\" class=\"dataframe\">\n",
       "  <thead>\n",
       "    <tr style=\"text-align: right;\">\n",
       "      <th></th>\n",
       "      <th>question</th>\n",
       "      <th>answer</th>\n",
       "      <th>retrieved_context</th>\n",
       "      <th>char_len</th>\n",
       "    </tr>\n",
       "  </thead>\n",
       "  <tbody>\n",
       "    <tr>\n",
       "      <th>0</th>\n",
       "      <td>Hey I have a question about using wandb with f...</td>\n",
       "      <td>The initialization of `wandb.init()` should be...</td>\n",
       "      <td>`wandb.init()` returns a run object, and you c...</td>\n",
       "      <td>15505</td>\n",
       "    </tr>\n",
       "    <tr>\n",
       "      <th>1</th>\n",
       "      <td>Hey with wandb is it possible to link from the...</td>\n",
       "      <td>Yes, you can link to the best run from a sweep...</td>\n",
       "      <td>### How do I best log models from runs in a sw...</td>\n",
       "      <td>13161</td>\n",
       "    </tr>\n",
       "    <tr>\n",
       "      <th>2</th>\n",
       "      <td>I am training a spacy textcat model. This proc...</td>\n",
       "      <td>To log the best model's metrics instead of the...</td>\n",
       "      <td>### Model Architecture\\n\\nOur config also defi...</td>\n",
       "      <td>17812</td>\n",
       "    </tr>\n",
       "    <tr>\n",
       "      <th>3</th>\n",
       "      <td>Explain how I can version datasets with Weight...</td>\n",
       "      <td>Weights &amp; Biases provides a feature called Art...</td>\n",
       "      <td># A 3-in-1 Intro to Weights &amp; Biases: Compute...</td>\n",
       "      <td>12755</td>\n",
       "    </tr>\n",
       "    <tr>\n",
       "      <th>4</th>\n",
       "      <td>I'm using   env = SubprocVecEnv(\\n        [mak...</td>\n",
       "      <td>To record a video for a specific subprocess en...</td>\n",
       "      <td>## Basic Example\\n\\nThe W&amp;B SB3 integration us...</td>\n",
       "      <td>15480</td>\n",
       "    </tr>\n",
       "  </tbody>\n",
       "</table>\n",
       "</div>"
      ],
      "text/plain": [
       "                                            question  \\\n",
       "0  Hey I have a question about using wandb with f...   \n",
       "1  Hey with wandb is it possible to link from the...   \n",
       "2  I am training a spacy textcat model. This proc...   \n",
       "3  Explain how I can version datasets with Weight...   \n",
       "4  I'm using   env = SubprocVecEnv(\\n        [mak...   \n",
       "\n",
       "                                              answer  \\\n",
       "0  The initialization of `wandb.init()` should be...   \n",
       "1  Yes, you can link to the best run from a sweep...   \n",
       "2  To log the best model's metrics instead of the...   \n",
       "3  Weights & Biases provides a feature called Art...   \n",
       "4  To record a video for a specific subprocess en...   \n",
       "\n",
       "                                   retrieved_context  char_len  \n",
       "0  `wandb.init()` returns a run object, and you c...     15505  \n",
       "1  ### How do I best log models from runs in a sw...     13161  \n",
       "2  ### Model Architecture\\n\\nOur config also defi...     17812  \n",
       "3   # A 3-in-1 Intro to Weights & Biases: Compute...     12755  \n",
       "4  ## Basic Example\\n\\nThe W&B SB3 integration us...     15480  "
      ]
     },
     "execution_count": 109,
     "metadata": {},
     "output_type": "execute_result"
    }
   ],
   "source": [
    "eval_df.head()"
   ]
  },
  {
   "cell_type": "code",
   "execution_count": 110,
   "id": "53f313ea-0f97-4c9d-afbf-f3ba75044b2e",
   "metadata": {
    "tags": []
   },
   "outputs": [],
   "source": [
    "eval_df.to_json(\"eval_wandbot.json\")"
   ]
  },
  {
   "cell_type": "code",
   "execution_count": 111,
   "id": "4d615bb7-f385-4771-a593-c2845561d0fd",
   "metadata": {
    "tags": []
   },
   "outputs": [],
   "source": [
    "at = wandb.Artifact(\n",
    "    name=\"wandbot_eval_dataset\", \n",
    "    type=\"dataset\",\n",
    "    description=\"A wandbot dataset of questions and answers about W&B for evaluation\")"
   ]
  },
  {
   "cell_type": "code",
   "execution_count": 112,
   "id": "2b87fb8c-c12e-4f63-b9d2-6ef7d014db1f",
   "metadata": {
    "tags": []
   },
   "outputs": [
    {
     "data": {
      "text/html": [
       "Finishing last run (ID:9ye9dp2g) before initializing another..."
      ],
      "text/plain": [
       "<IPython.core.display.HTML object>"
      ]
     },
     "metadata": {},
     "output_type": "display_data"
    },
    {
     "data": {
      "text/html": [
       "Waiting for W&B process to finish... <strong style=\"color:green\">(success).</strong>"
      ],
      "text/plain": [
       "<IPython.core.display.HTML object>"
      ]
     },
     "metadata": {},
     "output_type": "display_data"
    },
    {
     "name": "stderr",
     "output_type": "stream",
     "text": [
      "wandb: WARNING Source type is set to 'repo' but some required information is missing from the environment. A job will not be created from this run. See https://docs.wandb.ai/guides/launch/create-job\n"
     ]
    },
    {
     "data": {
      "text/html": [
       " View run <strong style=\"color:#cdcd00\">amber-violet-3</strong> at: <a href='https://wandb.ai/capecape/sagemaker-llama2-wandb-training/runs/9ye9dp2g' target=\"_blank\">https://wandb.ai/capecape/sagemaker-llama2-wandb-training/runs/9ye9dp2g</a><br/>Synced 7 W&B file(s), 0 media file(s), 0 artifact file(s) and 1 other file(s)"
      ],
      "text/plain": [
       "<IPython.core.display.HTML object>"
      ]
     },
     "metadata": {},
     "output_type": "display_data"
    },
    {
     "data": {
      "text/html": [
       "Find logs at: <code>./wandb/run-20231012_084238-9ye9dp2g/logs</code>"
      ],
      "text/plain": [
       "<IPython.core.display.HTML object>"
      ]
     },
     "metadata": {},
     "output_type": "display_data"
    },
    {
     "data": {
      "text/html": [
       "Successfully finished last run (ID:9ye9dp2g). Initializing new run:<br/>"
      ],
      "text/plain": [
       "<IPython.core.display.HTML object>"
      ]
     },
     "metadata": {},
     "output_type": "display_data"
    },
    {
     "data": {
      "application/vnd.jupyter.widget-view+json": {
       "model_id": "93e14b0cc31f4f76b86c06d121bfd1b8",
       "version_major": 2,
       "version_minor": 0
      },
      "text/plain": [
       "VBox(children=(Label(value='Waiting for wandb.init()...\\r'), FloatProgress(value=0.011112306155539247, max=1.0…"
      ]
     },
     "metadata": {},
     "output_type": "display_data"
    },
    {
     "data": {
      "text/html": [
       "Tracking run with wandb version 0.15.12"
      ],
      "text/plain": [
       "<IPython.core.display.HTML object>"
      ]
     },
     "metadata": {},
     "output_type": "display_data"
    },
    {
     "data": {
      "text/html": [
       "Run data is saved locally in <code>/root/sagemaker-llama2-wandb/training/wandb/run-20231012_125652-tc1fnhia</code>"
      ],
      "text/plain": [
       "<IPython.core.display.HTML object>"
      ]
     },
     "metadata": {},
     "output_type": "display_data"
    },
    {
     "data": {
      "text/html": [
       "Syncing run <strong><a href='https://wandb.ai/capecape/aws_llm_demo/runs/tc1fnhia' target=\"_blank\">iconic-firebrand-6</a></strong> to <a href='https://wandb.ai/capecape/aws_llm_demo' target=\"_blank\">Weights & Biases</a> (<a href='https://wandb.me/run' target=\"_blank\">docs</a>)<br/>"
      ],
      "text/plain": [
       "<IPython.core.display.HTML object>"
      ]
     },
     "metadata": {},
     "output_type": "display_data"
    },
    {
     "data": {
      "text/html": [
       " View project at <a href='https://wandb.ai/capecape/aws_llm_demo' target=\"_blank\">https://wandb.ai/capecape/aws_llm_demo</a>"
      ],
      "text/plain": [
       "<IPython.core.display.HTML object>"
      ]
     },
     "metadata": {},
     "output_type": "display_data"
    },
    {
     "data": {
      "text/html": [
       " View run at <a href='https://wandb.ai/capecape/aws_llm_demo/runs/tc1fnhia' target=\"_blank\">https://wandb.ai/capecape/aws_llm_demo/runs/tc1fnhia</a>"
      ],
      "text/plain": [
       "<IPython.core.display.HTML object>"
      ]
     },
     "metadata": {},
     "output_type": "display_data"
    },
    {
     "data": {
      "text/html": [
       "Waiting for W&B process to finish... <strong style=\"color:green\">(success).</strong>"
      ],
      "text/plain": [
       "<IPython.core.display.HTML object>"
      ]
     },
     "metadata": {},
     "output_type": "display_data"
    },
    {
     "name": "stderr",
     "output_type": "stream",
     "text": [
      "wandb: WARNING Source type is set to 'repo' but some required information is missing from the environment. A job will not be created from this run. See https://docs.wandb.ai/guides/launch/create-job\n"
     ]
    },
    {
     "data": {
      "application/vnd.jupyter.widget-view+json": {
       "model_id": "9ca9a2b2e4a2477684e427d4185ef175",
       "version_major": 2,
       "version_minor": 0
      },
      "text/plain": [
       "VBox(children=(Label(value='2.239 MB of 2.239 MB uploaded (0.000 MB deduped)\\r'), FloatProgress(value=1.0, max…"
      ]
     },
     "metadata": {},
     "output_type": "display_data"
    },
    {
     "data": {
      "text/html": [
       " View run <strong style=\"color:#cdcd00\">iconic-firebrand-6</strong> at: <a href='https://wandb.ai/capecape/aws_llm_demo/runs/tc1fnhia' target=\"_blank\">https://wandb.ai/capecape/aws_llm_demo/runs/tc1fnhia</a><br/>Synced 6 W&B file(s), 0 media file(s), 1 artifact file(s) and 0 other file(s)"
      ],
      "text/plain": [
       "<IPython.core.display.HTML object>"
      ]
     },
     "metadata": {},
     "output_type": "display_data"
    },
    {
     "data": {
      "text/html": [
       "Find logs at: <code>./wandb/run-20231012_125652-tc1fnhia/logs</code>"
      ],
      "text/plain": [
       "<IPython.core.display.HTML object>"
      ]
     },
     "metadata": {},
     "output_type": "display_data"
    }
   ],
   "source": [
    "with wandb.init(project=\"aws_llm_demo\"):\n",
    "    at.add_file(\"eval_wandbot.json\")\n",
    "    wandb.log_artifact(at)"
   ]
  },
  {
   "cell_type": "markdown",
   "id": "8fa2ffe6-9ec8-4ab0-8d7e-8594277d0431",
   "metadata": {},
   "source": [
    "## Prepare the Dataset"
   ]
  },
  {
   "cell_type": "code",
   "execution_count": 113,
   "id": "485e14d4-38b1-4b43-8470-026e70f0d7c2",
   "metadata": {
    "tags": []
   },
   "outputs": [],
   "source": [
    "api = wandb.Api()\n",
    "dataset_artifact = api.artifact('capecape/wandbot/run-c1loi9jl-wandbot_questions:v0')"
   ]
  },
  {
   "cell_type": "code",
   "execution_count": 116,
   "id": "58c72adc-94fc-48de-b2e7-d6f9c22ed935",
   "metadata": {
    "tags": []
   },
   "outputs": [
    {
     "name": "stderr",
     "output_type": "stream",
     "text": [
      "\u001b[34m\u001b[1mwandb\u001b[0m:   1 of 1 files downloaded.  \n"
     ]
    }
   ],
   "source": [
    "table = dataset_artifact.get(\"wandbot_questions\")"
   ]
  },
  {
   "cell_type": "markdown",
   "id": "5f902fa8-1b3c-4f19-af81-94372c0a16f7",
   "metadata": {},
   "source": [
    "this is a W&B table, so we can convert it to whatever format we may need"
   ]
  },
  {
   "cell_type": "code",
   "execution_count": 117,
   "id": "372833dc-d535-464e-936e-765731418b46",
   "metadata": {
    "tags": []
   },
   "outputs": [
    {
     "data": {
      "text/html": [
       "<div>\n",
       "<style scoped>\n",
       "    .dataframe tbody tr th:only-of-type {\n",
       "        vertical-align: middle;\n",
       "    }\n",
       "\n",
       "    .dataframe tbody tr th {\n",
       "        vertical-align: top;\n",
       "    }\n",
       "\n",
       "    .dataframe thead th {\n",
       "        text-align: right;\n",
       "    }\n",
       "</style>\n",
       "<table border=\"1\" class=\"dataframe\">\n",
       "  <thead>\n",
       "    <tr style=\"text-align: right;\">\n",
       "      <th></th>\n",
       "      <th>context</th>\n",
       "      <th>question</th>\n",
       "      <th>answer</th>\n",
       "      <th>page_content</th>\n",
       "      <th>metadata</th>\n",
       "    </tr>\n",
       "  </thead>\n",
       "  <tbody>\n",
       "    <tr>\n",
       "      <th>0</th>\n",
       "      <td>A user has just started using the Weights &amp; Bi...</td>\n",
       "      <td>What is a 'run' in W&amp;B and what can I use it for?</td>\n",
       "      <td>A 'run' in W&amp;B is the fundamental unit that yo...</td>\n",
       "      <td>import Tabs from ‘@theme/Tabs’;  \\n\\nimport Ta...</td>\n",
       "      <td>{'file_type': '.md', 'language': 'en', 'source...</td>\n",
       "    </tr>\n",
       "    <tr>\n",
       "      <th>1</th>\n",
       "      <td>None</td>\n",
       "      <td>None</td>\n",
       "      <td>None</td>\n",
       "      <td>import Tabs from ‘@theme/Tabs’;  \\n\\nimport Ta...</td>\n",
       "      <td>{'file_type': '.md', 'language': 'en', 'source...</td>\n",
       "    </tr>\n",
       "    <tr>\n",
       "      <th>2</th>\n",
       "      <td>A user has just started using W&amp;B and they are...</td>\n",
       "      <td>Hi! I'm new to W&amp;B and I'm a bit stuck. Can yo...</td>\n",
       "      <td>Sure, you can install the W&amp;B library on your ...</td>\n",
       "      <td>import Tabs from ‘@theme/Tabs’;  \\n\\nimport Ta...</td>\n",
       "      <td>{'file_type': '.md', 'language': 'en', 'source...</td>\n",
       "    </tr>\n",
       "    <tr>\n",
       "      <th>3</th>\n",
       "      <td>None</td>\n",
       "      <td>None</td>\n",
       "      <td>None</td>\n",
       "      <td>import Tabs from ‘@theme/Tabs’;  \\n\\nimport Ta...</td>\n",
       "      <td>{'file_type': '.md', 'language': 'en', 'source...</td>\n",
       "    </tr>\n",
       "    <tr>\n",
       "      <th>4</th>\n",
       "      <td>The user is getting started with Weights and B...</td>\n",
       "      <td>I need to track my experiment's hyperparameter...</td>\n",
       "      <td>Certainly! You can pass your hyperparameters t...</td>\n",
       "      <td>import Tabs from ‘@theme/Tabs’;  \\n\\nimport Ta...</td>\n",
       "      <td>{'file_type': '.md', 'language': 'en', 'source...</td>\n",
       "    </tr>\n",
       "  </tbody>\n",
       "</table>\n",
       "</div>"
      ],
      "text/plain": [
       "                                             context  \\\n",
       "0  A user has just started using the Weights & Bi...   \n",
       "1                                               None   \n",
       "2  A user has just started using W&B and they are...   \n",
       "3                                               None   \n",
       "4  The user is getting started with Weights and B...   \n",
       "\n",
       "                                            question  \\\n",
       "0  What is a 'run' in W&B and what can I use it for?   \n",
       "1                                               None   \n",
       "2  Hi! I'm new to W&B and I'm a bit stuck. Can yo...   \n",
       "3                                               None   \n",
       "4  I need to track my experiment's hyperparameter...   \n",
       "\n",
       "                                              answer  \\\n",
       "0  A 'run' in W&B is the fundamental unit that yo...   \n",
       "1                                               None   \n",
       "2  Sure, you can install the W&B library on your ...   \n",
       "3                                               None   \n",
       "4  Certainly! You can pass your hyperparameters t...   \n",
       "\n",
       "                                        page_content  \\\n",
       "0  import Tabs from ‘@theme/Tabs’;  \\n\\nimport Ta...   \n",
       "1  import Tabs from ‘@theme/Tabs’;  \\n\\nimport Ta...   \n",
       "2  import Tabs from ‘@theme/Tabs’;  \\n\\nimport Ta...   \n",
       "3  import Tabs from ‘@theme/Tabs’;  \\n\\nimport Ta...   \n",
       "4  import Tabs from ‘@theme/Tabs’;  \\n\\nimport Ta...   \n",
       "\n",
       "                                            metadata  \n",
       "0  {'file_type': '.md', 'language': 'en', 'source...  \n",
       "1  {'file_type': '.md', 'language': 'en', 'source...  \n",
       "2  {'file_type': '.md', 'language': 'en', 'source...  \n",
       "3  {'file_type': '.md', 'language': 'en', 'source...  \n",
       "4  {'file_type': '.md', 'language': 'en', 'source...  "
      ]
     },
     "execution_count": 117,
     "metadata": {},
     "output_type": "execute_result"
    }
   ],
   "source": [
    "df = pd.DataFrame(table.data, columns=table.columns)\n",
    "df.head()"
   ]
  },
  {
   "cell_type": "code",
   "execution_count": 118,
   "id": "275c690e-af88-4352-bbb7-f12e755e2b87",
   "metadata": {
    "tags": []
   },
   "outputs": [
    {
     "data": {
      "text/html": [
       "<div>\n",
       "<style scoped>\n",
       "    .dataframe tbody tr th:only-of-type {\n",
       "        vertical-align: middle;\n",
       "    }\n",
       "\n",
       "    .dataframe tbody tr th {\n",
       "        vertical-align: top;\n",
       "    }\n",
       "\n",
       "    .dataframe thead th {\n",
       "        text-align: right;\n",
       "    }\n",
       "</style>\n",
       "<table border=\"1\" class=\"dataframe\">\n",
       "  <thead>\n",
       "    <tr style=\"text-align: right;\">\n",
       "      <th></th>\n",
       "      <th>context</th>\n",
       "      <th>question</th>\n",
       "      <th>answer</th>\n",
       "      <th>page_content</th>\n",
       "      <th>metadata</th>\n",
       "    </tr>\n",
       "  </thead>\n",
       "  <tbody>\n",
       "    <tr>\n",
       "      <th>0</th>\n",
       "      <td>A user has just started using the Weights &amp; Bi...</td>\n",
       "      <td>What is a 'run' in W&amp;B and what can I use it for?</td>\n",
       "      <td>A 'run' in W&amp;B is the fundamental unit that yo...</td>\n",
       "      <td>import Tabs from ‘@theme/Tabs’;  \\n\\nimport Ta...</td>\n",
       "      <td>{'file_type': '.md', 'language': 'en', 'source...</td>\n",
       "    </tr>\n",
       "    <tr>\n",
       "      <th>2</th>\n",
       "      <td>A user has just started using W&amp;B and they are...</td>\n",
       "      <td>Hi! I'm new to W&amp;B and I'm a bit stuck. Can yo...</td>\n",
       "      <td>Sure, you can install the W&amp;B library on your ...</td>\n",
       "      <td>import Tabs from ‘@theme/Tabs’;  \\n\\nimport Ta...</td>\n",
       "      <td>{'file_type': '.md', 'language': 'en', 'source...</td>\n",
       "    </tr>\n",
       "    <tr>\n",
       "      <th>4</th>\n",
       "      <td>The user is getting started with Weights and B...</td>\n",
       "      <td>I need to track my experiment's hyperparameter...</td>\n",
       "      <td>Certainly! You can pass your hyperparameters t...</td>\n",
       "      <td>import Tabs from ‘@theme/Tabs’;  \\n\\nimport Ta...</td>\n",
       "      <td>{'file_type': '.md', 'language': 'en', 'source...</td>\n",
       "    </tr>\n",
       "    <tr>\n",
       "      <th>5</th>\n",
       "      <td>A user is trying to do some mathematical opera...</td>\n",
       "      <td>How do I multiply two numbers using W&amp;B functi...</td>\n",
       "      <td>To multiply two numbers, you can use the `numb...</td>\n",
       "      <td>Value\\n\\n\\nWhether the two values are not equ...</td>\n",
       "      <td>{'file_type': '.md', 'language': 'en', 'source...</td>\n",
       "    </tr>\n",
       "    <tr>\n",
       "      <th>6</th>\n",
       "      <td>A user has been working on making sense of a d...</td>\n",
       "      <td>Hi, I have some confusing numbers that represe...</td>\n",
       "      <td>Yes, there is a function in W&amp;B that allows yo...</td>\n",
       "      <td>Value\\n\\n\\nWhether the two values are not equ...</td>\n",
       "      <td>{'file_type': '.md', 'language': 'en', 'source...</td>\n",
       "    </tr>\n",
       "  </tbody>\n",
       "</table>\n",
       "</div>"
      ],
      "text/plain": [
       "                                             context  \\\n",
       "0  A user has just started using the Weights & Bi...   \n",
       "2  A user has just started using W&B and they are...   \n",
       "4  The user is getting started with Weights and B...   \n",
       "5  A user is trying to do some mathematical opera...   \n",
       "6  A user has been working on making sense of a d...   \n",
       "\n",
       "                                            question  \\\n",
       "0  What is a 'run' in W&B and what can I use it for?   \n",
       "2  Hi! I'm new to W&B and I'm a bit stuck. Can yo...   \n",
       "4  I need to track my experiment's hyperparameter...   \n",
       "5  How do I multiply two numbers using W&B functi...   \n",
       "6  Hi, I have some confusing numbers that represe...   \n",
       "\n",
       "                                              answer  \\\n",
       "0  A 'run' in W&B is the fundamental unit that yo...   \n",
       "2  Sure, you can install the W&B library on your ...   \n",
       "4  Certainly! You can pass your hyperparameters t...   \n",
       "5  To multiply two numbers, you can use the `numb...   \n",
       "6  Yes, there is a function in W&B that allows yo...   \n",
       "\n",
       "                                        page_content  \\\n",
       "0  import Tabs from ‘@theme/Tabs’;  \\n\\nimport Ta...   \n",
       "2  import Tabs from ‘@theme/Tabs’;  \\n\\nimport Ta...   \n",
       "4  import Tabs from ‘@theme/Tabs’;  \\n\\nimport Ta...   \n",
       "5   Value\\n\\n\\nWhether the two values are not equ...   \n",
       "6   Value\\n\\n\\nWhether the two values are not equ...   \n",
       "\n",
       "                                            metadata  \n",
       "0  {'file_type': '.md', 'language': 'en', 'source...  \n",
       "2  {'file_type': '.md', 'language': 'en', 'source...  \n",
       "4  {'file_type': '.md', 'language': 'en', 'source...  \n",
       "5  {'file_type': '.md', 'language': 'en', 'source...  \n",
       "6  {'file_type': '.md', 'language': 'en', 'source...  "
      ]
     },
     "execution_count": 118,
     "metadata": {},
     "output_type": "execute_result"
    }
   ],
   "source": [
    "df = df.dropna()\n",
    "df.head()"
   ]
  },
  {
   "cell_type": "code",
   "execution_count": 129,
   "id": "ba7960d5-7624-4506-838e-961a0e206785",
   "metadata": {
    "tags": []
   },
   "outputs": [
    {
     "data": {
      "text/html": [
       "<div>\n",
       "<style scoped>\n",
       "    .dataframe tbody tr th:only-of-type {\n",
       "        vertical-align: middle;\n",
       "    }\n",
       "\n",
       "    .dataframe tbody tr th {\n",
       "        vertical-align: top;\n",
       "    }\n",
       "\n",
       "    .dataframe thead th {\n",
       "        text-align: right;\n",
       "    }\n",
       "</style>\n",
       "<table border=\"1\" class=\"dataframe\">\n",
       "  <thead>\n",
       "    <tr style=\"text-align: right;\">\n",
       "      <th></th>\n",
       "      <th>context</th>\n",
       "      <th>question</th>\n",
       "      <th>answer</th>\n",
       "      <th>page_content</th>\n",
       "      <th>metadata</th>\n",
       "      <th>context_len</th>\n",
       "    </tr>\n",
       "  </thead>\n",
       "  <tbody>\n",
       "    <tr>\n",
       "      <th>0</th>\n",
       "      <td>A user has just started using the Weights &amp; Bi...</td>\n",
       "      <td>What is a 'run' in W&amp;B and what can I use it for?</td>\n",
       "      <td>A 'run' in W&amp;B is the fundamental unit that yo...</td>\n",
       "      <td>import Tabs from ‘@theme/Tabs’;  \\n\\nimport Ta...</td>\n",
       "      <td>{'file_type': '.md', 'language': 'en', 'source...</td>\n",
       "      <td>1291.111111</td>\n",
       "    </tr>\n",
       "    <tr>\n",
       "      <th>2</th>\n",
       "      <td>A user has just started using W&amp;B and they are...</td>\n",
       "      <td>Hi! I'm new to W&amp;B and I'm a bit stuck. Can yo...</td>\n",
       "      <td>Sure, you can install the W&amp;B library on your ...</td>\n",
       "      <td>import Tabs from ‘@theme/Tabs’;  \\n\\nimport Ta...</td>\n",
       "      <td>{'file_type': '.md', 'language': 'en', 'source...</td>\n",
       "      <td>1291.111111</td>\n",
       "    </tr>\n",
       "    <tr>\n",
       "      <th>4</th>\n",
       "      <td>The user is getting started with Weights and B...</td>\n",
       "      <td>I need to track my experiment's hyperparameter...</td>\n",
       "      <td>Certainly! You can pass your hyperparameters t...</td>\n",
       "      <td>import Tabs from ‘@theme/Tabs’;  \\n\\nimport Ta...</td>\n",
       "      <td>{'file_type': '.md', 'language': 'en', 'source...</td>\n",
       "      <td>1291.111111</td>\n",
       "    </tr>\n",
       "    <tr>\n",
       "      <th>5</th>\n",
       "      <td>A user is trying to do some mathematical opera...</td>\n",
       "      <td>How do I multiply two numbers using W&amp;B functi...</td>\n",
       "      <td>To multiply two numbers, you can use the `numb...</td>\n",
       "      <td>Value\\n\\n\\nWhether the two values are not equ...</td>\n",
       "      <td>{'file_type': '.md', 'language': 'en', 'source...</td>\n",
       "      <td>2186.111111</td>\n",
       "    </tr>\n",
       "    <tr>\n",
       "      <th>6</th>\n",
       "      <td>A user has been working on making sense of a d...</td>\n",
       "      <td>Hi, I have some confusing numbers that represe...</td>\n",
       "      <td>Yes, there is a function in W&amp;B that allows yo...</td>\n",
       "      <td>Value\\n\\n\\nWhether the two values are not equ...</td>\n",
       "      <td>{'file_type': '.md', 'language': 'en', 'source...</td>\n",
       "      <td>2186.111111</td>\n",
       "    </tr>\n",
       "    <tr>\n",
       "      <th>...</th>\n",
       "      <td>...</td>\n",
       "      <td>...</td>\n",
       "      <td>...</td>\n",
       "      <td>...</td>\n",
       "      <td>...</td>\n",
       "      <td>...</td>\n",
       "    </tr>\n",
       "    <tr>\n",
       "      <th>1588</th>\n",
       "      <td>The user is running a fine-tuning task using t...</td>\n",
       "      <td>I've completed fine-tuning my GPT-3 model and ...</td>\n",
       "      <td>You can evaluate your fine-tuned model by crea...</td>\n",
       "      <td>3, just skip this section!\\n\\n\\nOtherwise let’...</td>\n",
       "      <td>{'file_type': '.ipynb', 'language': 'python', ...</td>\n",
       "      <td>2247.500000</td>\n",
       "    </tr>\n",
       "    <tr>\n",
       "      <th>1589</th>\n",
       "      <td>The user may be working with a project where t...</td>\n",
       "      <td>How can I log my fine-tunes to Weights &amp; Biases?</td>\n",
       "      <td>You can log your fine-tunes to Weights &amp; Biase...</td>\n",
       "      <td>3, just skip this section!\\n\\n\\nOtherwise let’...</td>\n",
       "      <td>{'file_type': '.ipynb', 'language': 'python', ...</td>\n",
       "      <td>2247.500000</td>\n",
       "    </tr>\n",
       "    <tr>\n",
       "      <th>1590</th>\n",
       "      <td>A user is training a model using OpenAI and is...</td>\n",
       "      <td>How can I log my OpenAI fine-tuning job to Wei...</td>\n",
       "      <td>To log your OpenAI fine-tuning job to Weights ...</td>\n",
       "      <td>: {np.mean(values)}, {np.median(values)}\")\\n  ...</td>\n",
       "      <td>{'file_type': '.ipynb', 'language': 'python', ...</td>\n",
       "      <td>2228.611111</td>\n",
       "    </tr>\n",
       "    <tr>\n",
       "      <th>1592</th>\n",
       "      <td>A user is trying to fine-tune a model using Op...</td>\n",
       "      <td>Can I keep track of my OpenAI fine-tuning jobs...</td>\n",
       "      <td>Yes, you can log your fine-tuning jobs to W&amp;B ...</td>\n",
       "      <td>: {np.mean(values)}, {np.median(values)}\")\\n  ...</td>\n",
       "      <td>{'file_type': '.ipynb', 'language': 'python', ...</td>\n",
       "      <td>2228.611111</td>\n",
       "    </tr>\n",
       "    <tr>\n",
       "      <th>1593</th>\n",
       "      <td>A user is trying to train their own version of...</td>\n",
       "      <td>In the code provided in your documentation, do...</td>\n",
       "      <td>Yes, the code provided in the documentation is...</td>\n",
       "      <td>: {np.mean(values)}, {np.median(values)}\")\\n  ...</td>\n",
       "      <td>{'file_type': '.ipynb', 'language': 'python', ...</td>\n",
       "      <td>2228.611111</td>\n",
       "    </tr>\n",
       "  </tbody>\n",
       "</table>\n",
       "<p>1026 rows × 6 columns</p>\n",
       "</div>"
      ],
      "text/plain": [
       "                                                context  \\\n",
       "0     A user has just started using the Weights & Bi...   \n",
       "2     A user has just started using W&B and they are...   \n",
       "4     The user is getting started with Weights and B...   \n",
       "5     A user is trying to do some mathematical opera...   \n",
       "6     A user has been working on making sense of a d...   \n",
       "...                                                 ...   \n",
       "1588  The user is running a fine-tuning task using t...   \n",
       "1589  The user may be working with a project where t...   \n",
       "1590  A user is training a model using OpenAI and is...   \n",
       "1592  A user is trying to fine-tune a model using Op...   \n",
       "1593  A user is trying to train their own version of...   \n",
       "\n",
       "                                               question  \\\n",
       "0     What is a 'run' in W&B and what can I use it for?   \n",
       "2     Hi! I'm new to W&B and I'm a bit stuck. Can yo...   \n",
       "4     I need to track my experiment's hyperparameter...   \n",
       "5     How do I multiply two numbers using W&B functi...   \n",
       "6     Hi, I have some confusing numbers that represe...   \n",
       "...                                                 ...   \n",
       "1588  I've completed fine-tuning my GPT-3 model and ...   \n",
       "1589   How can I log my fine-tunes to Weights & Biases?   \n",
       "1590  How can I log my OpenAI fine-tuning job to Wei...   \n",
       "1592  Can I keep track of my OpenAI fine-tuning jobs...   \n",
       "1593  In the code provided in your documentation, do...   \n",
       "\n",
       "                                                 answer  \\\n",
       "0     A 'run' in W&B is the fundamental unit that yo...   \n",
       "2     Sure, you can install the W&B library on your ...   \n",
       "4     Certainly! You can pass your hyperparameters t...   \n",
       "5     To multiply two numbers, you can use the `numb...   \n",
       "6     Yes, there is a function in W&B that allows yo...   \n",
       "...                                                 ...   \n",
       "1588  You can evaluate your fine-tuned model by crea...   \n",
       "1589  You can log your fine-tunes to Weights & Biase...   \n",
       "1590  To log your OpenAI fine-tuning job to Weights ...   \n",
       "1592  Yes, you can log your fine-tuning jobs to W&B ...   \n",
       "1593  Yes, the code provided in the documentation is...   \n",
       "\n",
       "                                           page_content  \\\n",
       "0     import Tabs from ‘@theme/Tabs’;  \\n\\nimport Ta...   \n",
       "2     import Tabs from ‘@theme/Tabs’;  \\n\\nimport Ta...   \n",
       "4     import Tabs from ‘@theme/Tabs’;  \\n\\nimport Ta...   \n",
       "5      Value\\n\\n\\nWhether the two values are not equ...   \n",
       "6      Value\\n\\n\\nWhether the two values are not equ...   \n",
       "...                                                 ...   \n",
       "1588  3, just skip this section!\\n\\n\\nOtherwise let’...   \n",
       "1589  3, just skip this section!\\n\\n\\nOtherwise let’...   \n",
       "1590  : {np.mean(values)}, {np.median(values)}\")\\n  ...   \n",
       "1592  : {np.mean(values)}, {np.median(values)}\")\\n  ...   \n",
       "1593  : {np.mean(values)}, {np.median(values)}\")\\n  ...   \n",
       "\n",
       "                                               metadata  context_len  \n",
       "0     {'file_type': '.md', 'language': 'en', 'source...  1291.111111  \n",
       "2     {'file_type': '.md', 'language': 'en', 'source...  1291.111111  \n",
       "4     {'file_type': '.md', 'language': 'en', 'source...  1291.111111  \n",
       "5     {'file_type': '.md', 'language': 'en', 'source...  2186.111111  \n",
       "6     {'file_type': '.md', 'language': 'en', 'source...  2186.111111  \n",
       "...                                                 ...          ...  \n",
       "1588  {'file_type': '.ipynb', 'language': 'python', ...  2247.500000  \n",
       "1589  {'file_type': '.ipynb', 'language': 'python', ...  2247.500000  \n",
       "1590  {'file_type': '.ipynb', 'language': 'python', ...  2228.611111  \n",
       "1592  {'file_type': '.ipynb', 'language': 'python', ...  2228.611111  \n",
       "1593  {'file_type': '.ipynb', 'language': 'python', ...  2228.611111  \n",
       "\n",
       "[1026 rows x 6 columns]"
      ]
     },
     "execution_count": 129,
     "metadata": {},
     "output_type": "execute_result"
    }
   ],
   "source": [
    "df.assign(context_len = lambda df: df.page_content.str.len()/3.6)"
   ]
  },
  {
   "cell_type": "markdown",
   "id": "90391542-9e78-46ea-a197-0bc915f54a44",
   "metadata": {},
   "source": [
    "Let's prepare the training dataset now"
   ]
  },
  {
   "cell_type": "code",
   "execution_count": 130,
   "id": "5942070f-a843-4486-bc7e-a30b8aff856a",
   "metadata": {
    "tags": []
   },
   "outputs": [],
   "source": [
    "def prompt_template(row):\n",
    "    return (\"You are an AI assistant designed to assist developers with everyday tasks related to Weight & Biases \"\n",
    "            \"and provide helpful information. As an expert in the open-source python SDK wandb answer the following\"\n",
    "            \"question based on the context. Answer in formatted Markdown.\\n\"\n",
    "            \"Write a response that appropriately answer the question\\n\\n\"\n",
    "            \"### Question:\\n{question}\\n\\n### Response:\\n{answer}\").format_map(row)"
   ]
  },
  {
   "cell_type": "code",
   "execution_count": 131,
   "id": "384afe6b-94eb-4fff-b7ee-c62219e39d48",
   "metadata": {
    "tags": []
   },
   "outputs": [
    {
     "data": {
      "text/plain": [
       "\"You are an AI assistant designed to assist developers with everyday tasks related to Weight & Biases and provide helpful information. As an expert in the open-source python SDK wandb answer the followingquestion based on the context. Answer in formatted Markdown.\\nWrite a response that appropriately answer the question\\n\\n### Question:\\nWhat is a 'run' in W&B and what can I use it for?\\n\\n### Response:\\nA 'run' in W&B is the fundamental unit that you can use to track various aspects of your machine learning experiments. Once you initialize a W&B Run object in your Python script or notebook using `wandb.init()`, you can pass a dictionary to the `config` parameter where the key-value pairs are your hyperparameters with their corresponding values. You can use a 'run' to track metrics, create logs, jobs and do many more things.\""
      ]
     },
     "execution_count": 131,
     "metadata": {},
     "output_type": "execute_result"
    }
   ],
   "source": [
    "prompt_template(df.iloc[0])"
   ]
  },
  {
   "cell_type": "markdown",
   "id": "5dae08b1-5519-43e4-ba28-099950a0bd63",
   "metadata": {},
   "source": [
    "If you use CodeLLama we need to format the instructions accordingly!"
   ]
  },
  {
   "cell_type": "code",
   "execution_count": 132,
   "id": "bbb5948d-1b37-46b6-b6e1-5b1c65498bba",
   "metadata": {
    "tags": []
   },
   "outputs": [],
   "source": [
    "B_INST, E_INST = \"[INST] \", \" [/INST]\"\n",
    "B_SYS, E_SYS = \"<<SYS>>\\n\", \"\\n<</SYS>>\\n\\n\"\n",
    "EOS = \"</s>\"\n",
    "\n",
    "\n",
    "def format_text(row):\n",
    "    text = (\n",
    "        B_INST\n",
    "        + B_SYS\n",
    "        + \"You are an AI assistant designed to assist developers with everyday tasks related to Weight & Biases\"\n",
    "        + \"and provide helpful information. As an expert in the open-source python SDK wandb answer the following\"\n",
    "        # + \"question based on the context below. Answer in formatted Markdown.\\n\"\n",
    "        + \"question below. Answer in formatted Markdown.\\n\"\n",
    "        + row[\"page_content\"]\n",
    "        + E_SYS\n",
    "        + row[\"question\"]\n",
    "        + E_INST\n",
    "        + \"\\n[W&B]\\n\"\n",
    "        + row[\"answer\"]\n",
    "        + \"\\n[/W&B]\"\n",
    "        + EOS\n",
    "    )\n",
    "\n",
    "    return text"
   ]
  },
  {
   "cell_type": "code",
   "execution_count": 133,
   "id": "e9741054-c154-416c-998d-54385224cf7c",
   "metadata": {
    "tags": []
   },
   "outputs": [
    {
     "name": "stdout",
     "output_type": "stream",
     "text": [
      "[INST] <<SYS>>\n",
      "You are an AI assistant designed to assist developers with everyday tasks related to Weight & Biasesand provide helpful information. As an expert in the open-source python SDK wandb answer the followingquestion below. Answer in formatted Markdown.\n",
      "import Tabs from ‘@theme/Tabs’;  \n",
      "\n",
      "import TabItem from ‘@theme/TabItem’;\n",
      "\n",
      "\n",
      "# Quickstart\n",
      "\n",
      "\n",
      "Install W&B and start tracking your machine learning experiments in minutes.\n",
      "\n",
      "\n",
      "## 1. Create an account and install W&B\n",
      "\n",
      "\n",
      "Before you get started, make sure you create an account and install W&B:\n",
      "\n",
      "\n",
      "1. Sign up for a free account at <https://wandb.ai/site> and then login to your wandb account.\n",
      "2. Install the wandb library on your machine in a Python 3 environment using `pip`.\n",
      "\n",
      "\n",
      "\n",
      "The following code snippets demonstrate how to install and log into W&B using the W&B CLI and Python Library:\n",
      "\n",
      "\n",
      "\n",
      "Install the CLI and Python library for interacting with the Weights and Biases API:\n",
      "\n",
      "\n",
      "\n",
      "```\n",
      "pip install wandb\n",
      "\n",
      "```\n",
      "\n",
      "\n",
      "Install the CLI and Python library for interacting with the Weights and Biases API:\n",
      "\n",
      "\n",
      "\n",
      "```\n",
      "!pip install wandb\n",
      "\n",
      "```\n",
      "\n",
      "\n",
      "## 2. Log in to W&B\n",
      "\n",
      "\n",
      "\n",
      "Next, log in to W&B:\n",
      "\n",
      "\n",
      "\n",
      "```\n",
      "wandb login\n",
      "\n",
      "```\n",
      "\n",
      "Or if you are using W&B Server:\n",
      "\n",
      "\n",
      "\n",
      "```\n",
      "wandb login --host=http://wandb.your-shared-local-host.com\n",
      "\n",
      "```\n",
      "\n",
      "Provide your API key when prompted.\n",
      "\n",
      "\n",
      "\n",
      "Next, import the W&B Python SDK and log in:\n",
      "\n",
      "\n",
      "\n",
      "```\n",
      "wandb.login()\n",
      "\n",
      "```\n",
      "\n",
      "Provide your API key when prompted.  \n",
      "\n",
      "  \n",
      "\n",
      "\n",
      "\n",
      "\n",
      "## 3. Start a run and track hyperparameters\n",
      "\n",
      "\n",
      "Initialize a W&B Run object in your Python script or notebook with `wandb.init()` and pass a dictionary to the `config` parameter with key-value pairs of hyperparameter names and values:\n",
      "\n",
      "\n",
      "\n",
      "```\n",
      "run = wandb.init(\n",
      "    # Set the project where this run will be logged\n",
      "    project=\"my-awesome-project\",\n",
      "    # Track hyperparameters and run metadata\n",
      "    config={\n",
      "        \"learning_rate\": 0.01,\n",
      "        \"epochs\": 10,\n",
      "    })\n",
      "\n",
      "```\n",
      "\n",
      "\n",
      "A run is the basic building block of W&B. You will use them often to track metrics, create logs, create jobs, and more.\n",
      "\n",
      "\n",
      "\n",
      "\n",
      "## Putting it all together\n",
      "\n",
      "\n",
      "Putting it all together, your training script might look similar to the following code example. The highlighted code shows W&B-specific code.   \n",
      "\n",
      "Note that we added code that mimics machine learning training.\n",
      "\n",
      "\n",
      "\n",
      "```\n",
      "# train.py\n",
      "import wandb\n",
      "import random # for demo script\n",
      "\n",
      "# highlight-next-line\n",
      "wandb.login()\n",
      "\n",
      "epochs=10\n",
      "lr=0.01\n",
      "\n",
      "# highlight-start\n",
      "run = wandb.init(\n",
      "    # Set the project where this run will be logged\n",
      "    project=\"my-awesome-project\",\n",
      "    # Track hyperparameters and run metadata\n",
      "    config={\n",
      "        \"learning_rate\": lr,\n",
      "        \"epochs\": epochs,\n",
      "    })\n",
      "# highlight-end    \n",
      "\n",
      "offset = random.random() / 5\n",
      "print(f\"lr: {lr}\")\n",
      "\n",
      "# simulating a training run\n",
      "for epoch in range(2, epochs):\n",
      "    acc = 1 - 2 ** -epoch - random.random() / epoch - offset\n",
      "    loss = 2 ** -epoch + random.random() / epoch + offset\n",
      "    print(f\"epoch={epoch}, accuracy={acc}, loss={loss}\")\n",
      "    # highlight-next-line\n",
      "    wandb.log({\"accuracy\": acc, \"loss\": loss})\n",
      "\n",
      "# run.log_code()\n",
      "\n",
      "```\n",
      "\n",
      "That’s it! Navigate to the W&B App at <https://wandb.ai/home> to view how the metrics we logged with W&B (accuracy and loss) improved during each training step.\n",
      "\n",
      "\n",
      "\n",
      "The image above (click to expand) shows the loss and accuracy that was tracked from each time we ran the script above. Each run object that was created is show within the **Runs** column. Each run name is randomly generated.\n",
      "\n",
      "\n",
      "## What’s next?\n",
      "\n",
      "\n",
      "\n",
      "Explore the rest of the W&B ecosystem.\n",
      "\n",
      "\n",
      "1. Check out W&B Integrations to learn how to integrate W&B with your ML framework such as PyTorch, ML library such as Hugging Face, or ML service such as SageMaker.\n",
      "2. Organize runs, embed and automate visualizations, describe your findings, and share updates with collaborators with W&B Reports.\n",
      "3. Create W&B Artifacts to track datasets, models, dependencies, and results through each step of your machine learning pipeline.\n",
      "4. Automate hyperparameter search and explore the space of possible models with W&B Sweeps.\n",
      "5. Understand your datasets, visualize model predictions, and share insights in a central dashboard.\n",
      "\n",
      "\n",
      "\n",
      "## Common Questions\n",
      "\n",
      "\n",
      "**Where do I find my API key?**  \n",
      "\n",
      "Once you’ve signed in to www.wandb.ai, the API key will be on the Authorize page.\n",
      "\n",
      "\n",
      "**How do I use W&B in an automated environment?**  \n",
      "\n",
      "If you are training models in an automated environment where it’s inconvenient to run shell commands, such as Google’s CloudML, you should look at our guide to configuration with Environment Variables.\n",
      "\n",
      "\n",
      "**Do you offer local, on-prem installs?**  \n",
      "\n",
      "Yes, you can privately host W&B locally on your own machines or in a private cloud, try this quick tutorial notebook to see how. Note, to login to wandb local server you can set the host flag to the address of the local instance. \n",
      "\n",
      "\n",
      "**How do I turn off wandb logging temporarily?**  \n",
      "\n",
      "If are testing code and want to disable wandb syncing, set the environment variable `WANDB_MODE=offline`.\n",
      "\n",
      "\n",
      "<</SYS>>\n",
      "\n",
      "What is a 'run' in W&B and what can I use it for? [/INST]\n",
      "[W&B]\n",
      "A 'run' in W&B is the fundamental unit that you can use to track various aspects of your machine learning experiments. Once you initialize a W&B Run object in your Python script or notebook using `wandb.init()`, you can pass a dictionary to the `config` parameter where the key-value pairs are your hyperparameters with their corresponding values. You can use a 'run' to track metrics, create logs, jobs and do many more things.\n",
      "[/W&B]</s>\n"
     ]
    }
   ],
   "source": [
    "one_example = format_text(df.iloc[0])\n",
    "print(one_example)"
   ]
  },
  {
   "cell_type": "code",
   "execution_count": 134,
   "id": "bddd870b-02a3-4628-9cba-a1256cb3e9d2",
   "metadata": {
    "tags": []
   },
   "outputs": [],
   "source": [
    "dataset = []\n",
    "for index, row in df.iterrows():\n",
    "    dataset.append({\"text\": format_text(row)})"
   ]
  },
  {
   "cell_type": "code",
   "execution_count": 135,
   "id": "de57e448-f85c-49e6-85c4-87ffb82f9e06",
   "metadata": {
    "tags": []
   },
   "outputs": [],
   "source": [
    "import json\n",
    "def save_jsonl(data, filename):\n",
    "    with open(filename, 'w') as file:\n",
    "        for entry in data:\n",
    "            json.dump(entry, file)\n",
    "            file.write('\\n')"
   ]
  },
  {
   "cell_type": "code",
   "execution_count": 136,
   "id": "aedef108-1385-4f94-b493-409d64a1577e",
   "metadata": {
    "tags": []
   },
   "outputs": [],
   "source": [
    "save_jsonl(dataset, \"wandb_questions_ds.jsonl\")"
   ]
  },
  {
   "cell_type": "markdown",
   "id": "f1017dd8-f56d-4dfb-90ef-ddf604c75e8f",
   "metadata": {},
   "source": [
    "## SageMaker auth"
   ]
  },
  {
   "cell_type": "code",
   "execution_count": 137,
   "id": "ee341747-68ae-4b11-ab7c-2e5b86bf89ec",
   "metadata": {
    "tags": []
   },
   "outputs": [
    {
     "name": "stdout",
     "output_type": "stream",
     "text": [
      "sagemaker.config INFO - Not applying SDK defaults from location: /etc/xdg/sagemaker/config.yaml\n",
      "sagemaker.config INFO - Not applying SDK defaults from location: /root/.config/sagemaker/config.yaml\n",
      "sagemaker.config INFO - Not applying SDK defaults from location: /etc/xdg/sagemaker/config.yaml\n",
      "sagemaker.config INFO - Not applying SDK defaults from location: /root/.config/sagemaker/config.yaml\n",
      "sagemaker.config INFO - Not applying SDK defaults from location: /etc/xdg/sagemaker/config.yaml\n",
      "sagemaker.config INFO - Not applying SDK defaults from location: /root/.config/sagemaker/config.yaml\n",
      "sagemaker.config INFO - Not applying SDK defaults from location: /etc/xdg/sagemaker/config.yaml\n",
      "sagemaker.config INFO - Not applying SDK defaults from location: /root/.config/sagemaker/config.yaml\n",
      "sagemaker role arn: arn:aws:iam::372108735839:role/SageMakerExecutionRole\n",
      "sagemaker bucket: sagemaker-us-east-1-372108735839\n",
      "sagemaker session region: us-east-1\n"
     ]
    }
   ],
   "source": [
    "import sagemaker\n",
    "import boto3\n",
    "sess = sagemaker.Session()\n",
    "# sagemaker session bucket -> used for uploading data, models and logs\n",
    "# sagemaker will automatically create this bucket if it not exists\n",
    "sagemaker_session_bucket=None\n",
    "if sagemaker_session_bucket is None and sess is not None:\n",
    "    # set to default bucket if a bucket name is not given\n",
    "    sagemaker_session_bucket = sess.default_bucket()\n",
    "\n",
    "try:\n",
    "    role = sagemaker.get_execution_role()\n",
    "except ValueError:\n",
    "    iam = boto3.client('iam')\n",
    "    role = iam.get_role(RoleName='sagemaker_execution_role')['Role']['Arn']\n",
    "\n",
    "sess = sagemaker.Session(default_bucket=sagemaker_session_bucket)\n",
    "\n",
    "print(f\"sagemaker role arn: {role}\")\n",
    "print(f\"sagemaker bucket: {sess.default_bucket()}\")\n",
    "print(f\"sagemaker session region: {sess.boto_region_name}\")\n"
   ]
  },
  {
   "cell_type": "markdown",
   "id": "cdebe295-f927-406f-b790-27bc059abab1",
   "metadata": {},
   "source": [
    "## Preparing a dataset"
   ]
  },
  {
   "cell_type": "code",
   "execution_count": 138,
   "id": "5380e7bd-66f3-4237-a901-fe935a249982",
   "metadata": {
    "tags": []
   },
   "outputs": [],
   "source": [
    "MODEL_NAME = \"codellama/CodeLlama-7b-Instruct-hf\""
   ]
  },
  {
   "cell_type": "code",
   "execution_count": 139,
   "id": "20aaffb3-d181-4c34-a58d-3e9c78a16d14",
   "metadata": {
    "tags": []
   },
   "outputs": [
    {
     "name": "stderr",
     "output_type": "stream",
     "text": [
      "None of PyTorch, TensorFlow >= 2.0, or Flax have been found. Models won't be available and only tokenizers, configuration and file/data utilities can be used.\n",
      "/opt/conda/lib/python3.10/site-packages/transformers/models/auto/tokenization_auto.py:655: FutureWarning: The `use_auth_token` argument is deprecated and will be removed in v5 of Transformers.\n",
      "  warnings.warn(\n"
     ]
    }
   ],
   "source": [
    "from transformers import AutoTokenizer\n",
    "\n",
    "tokenizer = AutoTokenizer.from_pretrained(MODEL_NAME, use_auth_token=True)\n",
    "tokenizer.pad_token = tokenizer.eos_token"
   ]
  },
  {
   "cell_type": "code",
   "execution_count": 140,
   "id": "2a3eec28-6674-4b44-a4ba-4f2c2f44be89",
   "metadata": {
    "tags": []
   },
   "outputs": [],
   "source": [
    "from datasets import load_dataset"
   ]
  },
  {
   "cell_type": "code",
   "execution_count": 141,
   "id": "6d894909-a161-4806-832f-0da72a580860",
   "metadata": {
    "tags": []
   },
   "outputs": [
    {
     "data": {
      "application/vnd.jupyter.widget-view+json": {
       "model_id": "0bef30d17b774181985122b4c1dc68f3",
       "version_major": 2,
       "version_minor": 0
      },
      "text/plain": [
       "Downloading data files:   0%|          | 0/1 [00:00<?, ?it/s]"
      ]
     },
     "metadata": {},
     "output_type": "display_data"
    },
    {
     "data": {
      "application/vnd.jupyter.widget-view+json": {
       "model_id": "bd6cd8ccccd7436f94855e50dd31a210",
       "version_major": 2,
       "version_minor": 0
      },
      "text/plain": [
       "Extracting data files:   0%|          | 0/1 [00:00<?, ?it/s]"
      ]
     },
     "metadata": {},
     "output_type": "display_data"
    },
    {
     "data": {
      "application/vnd.jupyter.widget-view+json": {
       "model_id": "ebb45e2699cd4fd6af9f9f8b3d7762d1",
       "version_major": 2,
       "version_minor": 0
      },
      "text/plain": [
       "Generating train split: 0 examples [00:00, ? examples/s]"
      ]
     },
     "metadata": {},
     "output_type": "display_data"
    },
    {
     "data": {
      "text/plain": [
       "Dataset({\n",
       "    features: ['text'],\n",
       "    num_rows: 1026\n",
       "})"
      ]
     },
     "execution_count": 141,
     "metadata": {},
     "output_type": "execute_result"
    }
   ],
   "source": [
    "dataset = load_dataset(path=\".\", data_files=\"wandb_questions_ds.jsonl\", split=\"train\")\n",
    "dataset"
   ]
  },
  {
   "cell_type": "code",
   "execution_count": 142,
   "id": "6a4aa0e2-c9b3-4065-8c4a-ca24f8bfd856",
   "metadata": {
    "tags": []
   },
   "outputs": [
    {
     "data": {
      "text/plain": [
       "{'text': '[INST] <<SYS>>\\nYou are an AI assistant designed to assist developers with everyday tasks related to Weight & Biasesand provide helpful information. As an expert in the open-source python SDK wandb answer the followingquestion below. Answer in formatted Markdown.\\nimport Tabs from ‘@theme/Tabs’;  \\n\\nimport TabItem from ‘@theme/TabItem’;\\n\\n\\n# Quickstart\\n\\n\\nInstall W&B and start tracking your machine learning experiments in minutes.\\n\\n\\n## 1. Create an account and install W&B\\n\\n\\nBefore you get started, make sure you create an account and install W&B:\\n\\n\\n1. Sign up for a free account at <https://wandb.ai/site> and then login to your wandb account.\\n2. Install the wandb library on your machine in a Python 3 environment using `pip`.\\n\\n\\n\\nThe following code snippets demonstrate how to install and log into W&B using the W&B CLI and Python Library:\\n\\n\\n\\nInstall the CLI and Python library for interacting with the Weights and Biases API:\\n\\n\\n\\n```\\npip install wandb\\n\\n```\\n\\n\\nInstall the CLI and Python library for interacting with the Weights and Biases API:\\n\\n\\n\\n```\\n!pip install wandb\\n\\n```\\n\\n\\n## 2. Log in to W&B\\n\\n\\n\\nNext, log in to W&B:\\n\\n\\n\\n```\\nwandb login\\n\\n```\\n\\nOr if you are using W&B Server:\\n\\n\\n\\n```\\nwandb login --host=http://wandb.your-shared-local-host.com\\n\\n```\\n\\nProvide your API key when prompted.\\n\\n\\n\\nNext, import the W&B Python SDK and log in:\\n\\n\\n\\n```\\nwandb.login()\\n\\n```\\n\\nProvide your API key when prompted.  \\n\\n  \\n\\n\\n\\n\\n## 3. Start a run and track hyperparameters\\n\\n\\nInitialize a W&B Run object in your Python script or notebook with `wandb.init()` and pass a dictionary to the `config` parameter with key-value pairs of hyperparameter names and values:\\n\\n\\n\\n```\\nrun = wandb.init(\\n    # Set the project where this run will be logged\\n    project=\"my-awesome-project\",\\n    # Track hyperparameters and run metadata\\n    config={\\n        \"learning_rate\": 0.01,\\n        \"epochs\": 10,\\n    })\\n\\n```\\n\\n\\nA run is the basic building block of W&B. You will use them often to track metrics, create logs, create jobs, and more.\\n\\n\\n\\n\\n## Putting it all together\\n\\n\\nPutting it all together, your training script might look similar to the following code example. The highlighted code shows W&B-specific code.   \\n\\nNote that we added code that mimics machine learning training.\\n\\n\\n\\n```\\n# train.py\\nimport wandb\\nimport random # for demo script\\n\\n# highlight-next-line\\nwandb.login()\\n\\nepochs=10\\nlr=0.01\\n\\n# highlight-start\\nrun = wandb.init(\\n    # Set the project where this run will be logged\\n    project=\"my-awesome-project\",\\n    # Track hyperparameters and run metadata\\n    config={\\n        \"learning_rate\": lr,\\n        \"epochs\": epochs,\\n    })\\n# highlight-end    \\n\\noffset = random.random() / 5\\nprint(f\"lr: {lr}\")\\n\\n# simulating a training run\\nfor epoch in range(2, epochs):\\n    acc = 1 - 2 ** -epoch - random.random() / epoch - offset\\n    loss = 2 ** -epoch + random.random() / epoch + offset\\n    print(f\"epoch={epoch}, accuracy={acc}, loss={loss}\")\\n    # highlight-next-line\\n    wandb.log({\"accuracy\": acc, \"loss\": loss})\\n\\n# run.log_code()\\n\\n```\\n\\nThat’s it! Navigate to the W&B App at <https://wandb.ai/home> to view how the metrics we logged with W&B (accuracy and loss) improved during each training step.\\n\\n\\n\\nThe image above (click to expand) shows the loss and accuracy that was tracked from each time we ran the script above. Each run object that was created is show within the **Runs** column. Each run name is randomly generated.\\n\\n\\n## What’s next?\\n\\n\\n\\nExplore the rest of the W&B ecosystem.\\n\\n\\n1. Check out W&B Integrations to learn how to integrate W&B with your ML framework such as PyTorch, ML library such as Hugging Face, or ML service such as SageMaker.\\n2. Organize runs, embed and automate visualizations, describe your findings, and share updates with collaborators with W&B Reports.\\n3. Create W&B Artifacts to track datasets, models, dependencies, and results through each step of your machine learning pipeline.\\n4. Automate hyperparameter search and explore the space of possible models with W&B Sweeps.\\n5. Understand your datasets, visualize model predictions, and share insights in a central dashboard.\\n\\n\\n\\n## Common Questions\\n\\n\\n**Where do I find my API key?**  \\n\\nOnce you’ve signed in to www.wandb.ai, the API key will be on the Authorize page.\\n\\n\\n**How do I use W&B in an automated environment?**  \\n\\nIf you are training models in an automated environment where it’s inconvenient to run shell commands, such as Google’s CloudML, you should look at our guide to configuration with Environment Variables.\\n\\n\\n**Do you offer local, on-prem installs?**  \\n\\nYes, you can privately host W&B locally on your own machines or in a private cloud, try this quick tutorial notebook to see how. Note, to login to wandb local server you can set the host flag to the address of the local instance. \\n\\n\\n**How do I turn off wandb logging temporarily?**  \\n\\nIf are testing code and want to disable wandb syncing, set the environment variable `WANDB_MODE=offline`.\\n\\n\\n<</SYS>>\\n\\nWhat is a \\'run\\' in W&B and what can I use it for? [/INST]\\n[W&B]\\nA \\'run\\' in W&B is the fundamental unit that you can use to track various aspects of your machine learning experiments. Once you initialize a W&B Run object in your Python script or notebook using `wandb.init()`, you can pass a dictionary to the `config` parameter where the key-value pairs are your hyperparameters with their corresponding values. You can use a \\'run\\' to track metrics, create logs, jobs and do many more things.\\n[/W&B]</s>'}"
      ]
     },
     "execution_count": 142,
     "metadata": {},
     "output_type": "execute_result"
    }
   ],
   "source": [
    "dataset[0]"
   ]
  },
  {
   "cell_type": "markdown",
   "id": "bac52401-ea01-44bb-95d7-b11f8aa34b59",
   "metadata": {},
   "source": [
    "We define some helper functions to pack our samples into sequences of a given length and then tokenize them.tokenizer"
   ]
  },
  {
   "cell_type": "code",
   "execution_count": 143,
   "id": "f0eb36f2-6dbf-4f13-b8ea-1ba2effc709c",
   "metadata": {
    "tags": []
   },
   "outputs": [
    {
     "data": {
      "application/vnd.jupyter.widget-view+json": {
       "model_id": "5e4a9eac4072404d88f9c4e0a658d3d1",
       "version_major": 2,
       "version_minor": 0
      },
      "text/plain": [
       "Map:   0%|          | 0/1026 [00:00<?, ? examples/s]"
      ]
     },
     "metadata": {},
     "output_type": "display_data"
    },
    {
     "name": "stdout",
     "output_type": "stream",
     "text": [
      "{'text': '[INST] <<SYS>>\\nYou are an AI assistant designed to assist developers with everyday tasks related to Weight & Biasesand provide helpful information. As an expert in the open-source python SDK wandb answer the followingquestion below. Answer in formatted Markdown.\\n\\n\\n# 🔥🔥 Explore Graph Sampling Techniques using PyTorch Geometric and Weights & Biases 🪄🐝\\n\\n\\n\\nIf you wish to know how to explore and visualize point cloud datasets using PyTorch Geometric and Weights & Biases, you can check out the following notebook:\\n\\n\\n\\n## Install Required Libraries\\n\\n\\n\\n```\\nimport os\\nimport torch\\nos.environ[\\'TORCH\\'] = torch.__version__\\nprint(torch.__version__)\\n\\n```\\n\\nWe now install PyTorch Geometric according to our PyTorch Version. We also install Weights & Biases.\\n\\n\\n!pip install -q torch-scatter -f https://data.pyg.org/whl/torch-${TORCH}.html  \\n\\n!pip install -q torch-sparse -f https://data.pyg.org/whl/torch-${TORCH}.html  \\n\\n!pip install -q torch-cluster -f https://data.pyg.org/whl/torch-${TORCH}.html  \\n\\n!pip install -q git+https://github.com/pyg-team/pytorch\\\\_geometric.git  \\n\\n!pip install -q wandb\\n\\n\\n### Import Libraries\\n\\n\\n\\n```\\nimport random\\nimport numpy as np\\nfrom glob import glob\\nfrom tqdm.auto import tqdm\\nfrom matplotlib import pyplot as plt\\n\\nimport wandb\\nimport networkx as nx\\nfrom pyvis.network import Network\\n\\nimport torch\\nimport torch.nn.functional as F\\n\\nimport torch_geometric.transforms as T\\nfrom torch_geometric.datasets import ModelNet\\nfrom torch_geometric.loader import DataLoader\\nfrom torch_geometric.utils import to_networkx\\nfrom torch_geometric.nn import knn_graph, radius_graph\\n\\n```\\n\\n\\n```\\npre_transform = T.NormalizeScale()\\ntransform = T.SamplePoints(128)\\nlow_train_dataset = ModelNet(\\n    root=\"ModelNet10\",\\n    name=\\'10\\',\\n    train=True,\\n    transform=transform,\\n    pre_transform=pre_transform\\n)\\n\\npre_transform = T.NormalizeScale()\\ntransform = T.SamplePoints(2048)\\nhigh_train_dataset = ModelNet(\\n    root=\"ModelNet10\",\\n    name=\\'10\\',\\n    train=True,\\n    transform=transform,\\n    pre_transform=pre_transform\\n)\\n\\n```\\n\\nWe take a single point cloud from the dataset and compare the KNN-sampled subgraph and radius-sampled subgraph by visualizing the subgraphs as `wandb.Html` on a Weights & Biases Table.\\n\\n\\n\\n```\\nwith wandb.init(\\n    project=\"pyg-point-cloud\",\\n    name=\"sampling/modelnet10\",\\n    entity=\"geekyrakshit\",\\n    job_type=\"eda\"\\n):\\n    table = wandb.Table(columns=[\\n        \"Model\", \"KNN-Sampled-Subgraph\", \"Nearest-Neighbours\", \"Radius-Sampled-Subgraph\", \"Radius\"\\n    ])\\n\\n    sample_data = low_train_dataset[0]\\n\\n    sample_data.edge_index = knn_graph(sample_data.pos, k=6)\\n    G = to_networkx(sample_data, to_undirected=True)\\n    nt = Network(\\'500px\\', \\'500px\\')\\n    nt.from_nx(G)\\n    knn_sampled = wandb.Html(nt.generate_html())\\n\\n    sample_data = low_train_dataset[0]\\n    sample_data.edge_index = radius_graph(sample_data.pos, r=0.5)\\n    G = to_networkx(sample_data, to_undirected=True)\\n    nx.draw(G)\\n    nt = Network(\\'500px\\', \\'500px\\')\\n    nt.from_nx(G)\\n    radius_sampled = wandb.Html(nt.generate_html())\\n\\n    table.add_data(\\n        wandb.Object3D(high_train_dataset[0].pos.numpy()), knn_sampled, 6, radius_sampled, 0.\\n    )\\n\\n    wandb.log({\"Sampling-Comparison\": table})\\n\\n```\\n\\nNext, you can check out the following notebook to learn how to train the PointNet++ architecture using PyTorch Geometric and Weights & Biases\\n\\n\\n\\n<</SYS>>\\n\\nHow do I interpret the results after visualizing the KNN-sampled subgraph and radius-sampled subgraph as `wandb.Html` on a Weights & Biases Table? [/INST]\\n[W&B]\\nWhen you visualize the KNN-sampled subgraph and the radius-sampled subgraph on Weights & Biases as `wandb.Html`, what you see on the reults table includes the Model, KNN-Sampled-Subgraph, Nearest-Neighbours, Radius-Sampled-Subgraph, and Radius.\\n\\nThis allows you to better understand and compare the implications of these two different sampling methods on your point cloud dataset.\\n\\nThe `wandb.log` function with `Sampling-Comparison` argument is logging this table of comparison back to your W&B account for review. They are presented in HTML format for easy and clear visualization.\\n[/W&B]</s>'}</s>\n"
     ]
    }
   ],
   "source": [
    "from random import randint\n",
    "from itertools import chain\n",
    "from functools import partial\n",
    "\n",
    "\n",
    "# template dataset to add prompt to each sample\n",
    "def template_dataset(sample):\n",
    "    sample[\"text\"] = f\"{sample}{tokenizer.eos_token}\"\n",
    "    return sample\n",
    "\n",
    "\n",
    "# apply prompt template per sample\n",
    "dataset = dataset.map(template_dataset)\n",
    "# print random sample\n",
    "print(dataset[randint(0, len(dataset))][\"text\"])\n",
    "\n",
    "# empty list to save remainder from batches to use in next batch\n",
    "remainder = {\"input_ids\": [], \"attention_mask\": [], \"token_type_ids\": []}"
   ]
  },
  {
   "cell_type": "code",
   "execution_count": 144,
   "id": "ec8e2766-5b3a-4424-82e6-1cf5ef45da1e",
   "metadata": {
    "tags": []
   },
   "outputs": [
    {
     "data": {
      "application/vnd.jupyter.widget-view+json": {
       "model_id": "91946027ee754986ada0e99bfa983cda",
       "version_major": 2,
       "version_minor": 0
      },
      "text/plain": [
       "Map:   0%|          | 0/1026 [00:00<?, ? examples/s]"
      ]
     },
     "metadata": {},
     "output_type": "display_data"
    },
    {
     "data": {
      "application/vnd.jupyter.widget-view+json": {
       "model_id": "73dfc05e904142b1bfaf49a280844181",
       "version_major": 2,
       "version_minor": 0
      },
      "text/plain": [
       "Map:   0%|          | 0/1026 [00:00<?, ? examples/s]"
      ]
     },
     "metadata": {},
     "output_type": "display_data"
    },
    {
     "name": "stdout",
     "output_type": "stream",
     "text": [
      "Total number of samples: 2396\n"
     ]
    }
   ],
   "source": [
    "def chunk(sample, chunk_length=1024):\n",
    "    # define global remainder variable to save remainder from batches to use in next batch\n",
    "    global remainder\n",
    "    # Concatenate all texts and add remainder from previous batch\n",
    "    concatenated_examples = {k: list(chain(*sample[k])) for k in sample.keys()}\n",
    "    concatenated_examples = {k: remainder[k] + concatenated_examples[k] for k in concatenated_examples.keys()}\n",
    "    # get total number of tokens for batch\n",
    "    batch_total_length = len(concatenated_examples[list(sample.keys())[0]])\n",
    "\n",
    "    # get max number of chunks for batch\n",
    "    if batch_total_length >= chunk_length:\n",
    "        batch_chunk_length = (batch_total_length // chunk_length) * chunk_length\n",
    "\n",
    "    # Split by chunks of max_len.\n",
    "    result = {\n",
    "        k: [t[i : i + chunk_length] for i in range(0, batch_chunk_length, chunk_length)]\n",
    "        for k, t in concatenated_examples.items()\n",
    "    }\n",
    "    # add remainder to global variable for next batch\n",
    "    remainder = {k: concatenated_examples[k][batch_chunk_length:] for k in concatenated_examples.keys()}\n",
    "    # prepare labels\n",
    "    result[\"labels\"] = result[\"input_ids\"].copy()\n",
    "    return result\n",
    "\n",
    "\n",
    "# tokenize and chunk dataset\n",
    "lm_dataset = dataset.map(\n",
    "    lambda sample: tokenizer(sample[\"text\"]), batched=True, remove_columns=list(dataset.features)\n",
    ").map(\n",
    "    partial(chunk, chunk_length=1024),\n",
    "    batched=True,\n",
    ")\n",
    "\n",
    "# Print total number of samples\n",
    "print(f\"Total number of samples: {len(lm_dataset)}\")"
   ]
  },
  {
   "cell_type": "markdown",
   "id": "6cd4726a-5381-4a56-8e5a-59fdfffb8c7c",
   "metadata": {},
   "source": [
    "## Save to a bucket and W&B"
   ]
  },
  {
   "cell_type": "code",
   "execution_count": 148,
   "id": "322268d9-80a8-4f67-bf55-76cf4773ca95",
   "metadata": {
    "tags": []
   },
   "outputs": [
    {
     "data": {
      "application/vnd.jupyter.widget-view+json": {
       "model_id": "c9a11dec9c7a4c28ba5f3c33e329ab75",
       "version_major": 2,
       "version_minor": 0
      },
      "text/plain": [
       "Saving the dataset (0/1 shards):   0%|          | 0/2396 [00:00<?, ? examples/s]"
      ]
     },
     "metadata": {},
     "output_type": "display_data"
    },
    {
     "name": "stdout",
     "output_type": "stream",
     "text": [
      "uploaded data to:\n",
      "training dataset to: s3://sagemaker-us-east-1-372108735839/processed/wandbot/train\n"
     ]
    }
   ],
   "source": [
    "# save train_dataset to s3\n",
    "training_input_path = f's3://{sess.default_bucket()}/processed/wandbot/train'\n",
    "lm_dataset.save_to_disk(training_input_path)\n",
    "\n",
    "print(\"uploaded data to:\")\n",
    "print(f\"training dataset to: {training_input_path}\")"
   ]
  },
  {
   "cell_type": "code",
   "execution_count": 149,
   "id": "f92d3c9a-f01d-4b6e-8a20-ab707918a0e3",
   "metadata": {
    "tags": []
   },
   "outputs": [],
   "source": [
    "at = wandb.Artifact(\n",
    "    name=\"wandbot_dataset\", \n",
    "    type=\"dataset\",\n",
    "    description=\"A wandbot dataset of questions and answers about W&B\")"
   ]
  },
  {
   "cell_type": "code",
   "execution_count": 150,
   "id": "7edcf658-cd05-46de-bc30-45c27a8f4853",
   "metadata": {
    "tags": []
   },
   "outputs": [
    {
     "data": {
      "text/html": [
       "Tracking run with wandb version 0.15.12"
      ],
      "text/plain": [
       "<IPython.core.display.HTML object>"
      ]
     },
     "metadata": {},
     "output_type": "display_data"
    },
    {
     "data": {
      "text/html": [
       "Run data is saved locally in <code>/root/sagemaker-llama2-wandb/training/wandb/run-20231012_132210-tpo4uh0j</code>"
      ],
      "text/plain": [
       "<IPython.core.display.HTML object>"
      ]
     },
     "metadata": {},
     "output_type": "display_data"
    },
    {
     "data": {
      "text/html": [
       "Syncing run <strong><a href='https://wandb.ai/capecape/aws_llm_demo/runs/tpo4uh0j' target=\"_blank\">cerulean-haze-8</a></strong> to <a href='https://wandb.ai/capecape/aws_llm_demo' target=\"_blank\">Weights & Biases</a> (<a href='https://wandb.me/run' target=\"_blank\">docs</a>)<br/>"
      ],
      "text/plain": [
       "<IPython.core.display.HTML object>"
      ]
     },
     "metadata": {},
     "output_type": "display_data"
    },
    {
     "data": {
      "text/html": [
       " View project at <a href='https://wandb.ai/capecape/aws_llm_demo' target=\"_blank\">https://wandb.ai/capecape/aws_llm_demo</a>"
      ],
      "text/plain": [
       "<IPython.core.display.HTML object>"
      ]
     },
     "metadata": {},
     "output_type": "display_data"
    },
    {
     "data": {
      "text/html": [
       " View run at <a href='https://wandb.ai/capecape/aws_llm_demo/runs/tpo4uh0j' target=\"_blank\">https://wandb.ai/capecape/aws_llm_demo/runs/tpo4uh0j</a>"
      ],
      "text/plain": [
       "<IPython.core.display.HTML object>"
      ]
     },
     "metadata": {},
     "output_type": "display_data"
    },
    {
     "name": "stderr",
     "output_type": "stream",
     "text": [
      "\u001b[34m\u001b[1mwandb\u001b[0m: Generating checksum for up to 10000 objects in \"sagemaker-us-east-1-372108735839/processed/wandbot/train\"... Done. 0.1s\n"
     ]
    },
    {
     "data": {
      "text/html": [
       "Waiting for W&B process to finish... <strong style=\"color:green\">(success).</strong>"
      ],
      "text/plain": [
       "<IPython.core.display.HTML object>"
      ]
     },
     "metadata": {},
     "output_type": "display_data"
    },
    {
     "name": "stderr",
     "output_type": "stream",
     "text": [
      "wandb: WARNING Source type is set to 'repo' but some required information is missing from the environment. A job will not be created from this run. See https://docs.wandb.ai/guides/launch/create-job\n"
     ]
    },
    {
     "data": {
      "text/html": [
       " View run <strong style=\"color:#cdcd00\">cerulean-haze-8</strong> at: <a href='https://wandb.ai/capecape/aws_llm_demo/runs/tpo4uh0j' target=\"_blank\">https://wandb.ai/capecape/aws_llm_demo/runs/tpo4uh0j</a><br/>Synced 7 W&B file(s), 0 media file(s), 0 artifact file(s) and 1 other file(s)"
      ],
      "text/plain": [
       "<IPython.core.display.HTML object>"
      ]
     },
     "metadata": {},
     "output_type": "display_data"
    },
    {
     "data": {
      "text/html": [
       "Find logs at: <code>./wandb/run-20231012_132210-tpo4uh0j/logs</code>"
      ],
      "text/plain": [
       "<IPython.core.display.HTML object>"
      ]
     },
     "metadata": {},
     "output_type": "display_data"
    }
   ],
   "source": [
    "with wandb.init(project=\"aws_llm_demo\"):\n",
    "    at.add_reference(training_input_path)\n",
    "    wandb.log_artifact(at)"
   ]
  }
 ],
 "metadata": {
  "availableInstances": [
   {
    "_defaultOrder": 0,
    "_isFastLaunch": true,
    "category": "General purpose",
    "gpuNum": 0,
    "hideHardwareSpecs": false,
    "memoryGiB": 4,
    "name": "ml.t3.medium",
    "vcpuNum": 2
   },
   {
    "_defaultOrder": 1,
    "_isFastLaunch": false,
    "category": "General purpose",
    "gpuNum": 0,
    "hideHardwareSpecs": false,
    "memoryGiB": 8,
    "name": "ml.t3.large",
    "vcpuNum": 2
   },
   {
    "_defaultOrder": 2,
    "_isFastLaunch": false,
    "category": "General purpose",
    "gpuNum": 0,
    "hideHardwareSpecs": false,
    "memoryGiB": 16,
    "name": "ml.t3.xlarge",
    "vcpuNum": 4
   },
   {
    "_defaultOrder": 3,
    "_isFastLaunch": false,
    "category": "General purpose",
    "gpuNum": 0,
    "hideHardwareSpecs": false,
    "memoryGiB": 32,
    "name": "ml.t3.2xlarge",
    "vcpuNum": 8
   },
   {
    "_defaultOrder": 4,
    "_isFastLaunch": true,
    "category": "General purpose",
    "gpuNum": 0,
    "hideHardwareSpecs": false,
    "memoryGiB": 8,
    "name": "ml.m5.large",
    "vcpuNum": 2
   },
   {
    "_defaultOrder": 5,
    "_isFastLaunch": false,
    "category": "General purpose",
    "gpuNum": 0,
    "hideHardwareSpecs": false,
    "memoryGiB": 16,
    "name": "ml.m5.xlarge",
    "vcpuNum": 4
   },
   {
    "_defaultOrder": 6,
    "_isFastLaunch": false,
    "category": "General purpose",
    "gpuNum": 0,
    "hideHardwareSpecs": false,
    "memoryGiB": 32,
    "name": "ml.m5.2xlarge",
    "vcpuNum": 8
   },
   {
    "_defaultOrder": 7,
    "_isFastLaunch": false,
    "category": "General purpose",
    "gpuNum": 0,
    "hideHardwareSpecs": false,
    "memoryGiB": 64,
    "name": "ml.m5.4xlarge",
    "vcpuNum": 16
   },
   {
    "_defaultOrder": 8,
    "_isFastLaunch": false,
    "category": "General purpose",
    "gpuNum": 0,
    "hideHardwareSpecs": false,
    "memoryGiB": 128,
    "name": "ml.m5.8xlarge",
    "vcpuNum": 32
   },
   {
    "_defaultOrder": 9,
    "_isFastLaunch": false,
    "category": "General purpose",
    "gpuNum": 0,
    "hideHardwareSpecs": false,
    "memoryGiB": 192,
    "name": "ml.m5.12xlarge",
    "vcpuNum": 48
   },
   {
    "_defaultOrder": 10,
    "_isFastLaunch": false,
    "category": "General purpose",
    "gpuNum": 0,
    "hideHardwareSpecs": false,
    "memoryGiB": 256,
    "name": "ml.m5.16xlarge",
    "vcpuNum": 64
   },
   {
    "_defaultOrder": 11,
    "_isFastLaunch": false,
    "category": "General purpose",
    "gpuNum": 0,
    "hideHardwareSpecs": false,
    "memoryGiB": 384,
    "name": "ml.m5.24xlarge",
    "vcpuNum": 96
   },
   {
    "_defaultOrder": 12,
    "_isFastLaunch": false,
    "category": "General purpose",
    "gpuNum": 0,
    "hideHardwareSpecs": false,
    "memoryGiB": 8,
    "name": "ml.m5d.large",
    "vcpuNum": 2
   },
   {
    "_defaultOrder": 13,
    "_isFastLaunch": false,
    "category": "General purpose",
    "gpuNum": 0,
    "hideHardwareSpecs": false,
    "memoryGiB": 16,
    "name": "ml.m5d.xlarge",
    "vcpuNum": 4
   },
   {
    "_defaultOrder": 14,
    "_isFastLaunch": false,
    "category": "General purpose",
    "gpuNum": 0,
    "hideHardwareSpecs": false,
    "memoryGiB": 32,
    "name": "ml.m5d.2xlarge",
    "vcpuNum": 8
   },
   {
    "_defaultOrder": 15,
    "_isFastLaunch": false,
    "category": "General purpose",
    "gpuNum": 0,
    "hideHardwareSpecs": false,
    "memoryGiB": 64,
    "name": "ml.m5d.4xlarge",
    "vcpuNum": 16
   },
   {
    "_defaultOrder": 16,
    "_isFastLaunch": false,
    "category": "General purpose",
    "gpuNum": 0,
    "hideHardwareSpecs": false,
    "memoryGiB": 128,
    "name": "ml.m5d.8xlarge",
    "vcpuNum": 32
   },
   {
    "_defaultOrder": 17,
    "_isFastLaunch": false,
    "category": "General purpose",
    "gpuNum": 0,
    "hideHardwareSpecs": false,
    "memoryGiB": 192,
    "name": "ml.m5d.12xlarge",
    "vcpuNum": 48
   },
   {
    "_defaultOrder": 18,
    "_isFastLaunch": false,
    "category": "General purpose",
    "gpuNum": 0,
    "hideHardwareSpecs": false,
    "memoryGiB": 256,
    "name": "ml.m5d.16xlarge",
    "vcpuNum": 64
   },
   {
    "_defaultOrder": 19,
    "_isFastLaunch": false,
    "category": "General purpose",
    "gpuNum": 0,
    "hideHardwareSpecs": false,
    "memoryGiB": 384,
    "name": "ml.m5d.24xlarge",
    "vcpuNum": 96
   },
   {
    "_defaultOrder": 20,
    "_isFastLaunch": false,
    "category": "General purpose",
    "gpuNum": 0,
    "hideHardwareSpecs": true,
    "memoryGiB": 0,
    "name": "ml.geospatial.interactive",
    "supportedImageNames": [
     "sagemaker-geospatial-v1-0"
    ],
    "vcpuNum": 0
   },
   {
    "_defaultOrder": 21,
    "_isFastLaunch": true,
    "category": "Compute optimized",
    "gpuNum": 0,
    "hideHardwareSpecs": false,
    "memoryGiB": 4,
    "name": "ml.c5.large",
    "vcpuNum": 2
   },
   {
    "_defaultOrder": 22,
    "_isFastLaunch": false,
    "category": "Compute optimized",
    "gpuNum": 0,
    "hideHardwareSpecs": false,
    "memoryGiB": 8,
    "name": "ml.c5.xlarge",
    "vcpuNum": 4
   },
   {
    "_defaultOrder": 23,
    "_isFastLaunch": false,
    "category": "Compute optimized",
    "gpuNum": 0,
    "hideHardwareSpecs": false,
    "memoryGiB": 16,
    "name": "ml.c5.2xlarge",
    "vcpuNum": 8
   },
   {
    "_defaultOrder": 24,
    "_isFastLaunch": false,
    "category": "Compute optimized",
    "gpuNum": 0,
    "hideHardwareSpecs": false,
    "memoryGiB": 32,
    "name": "ml.c5.4xlarge",
    "vcpuNum": 16
   },
   {
    "_defaultOrder": 25,
    "_isFastLaunch": false,
    "category": "Compute optimized",
    "gpuNum": 0,
    "hideHardwareSpecs": false,
    "memoryGiB": 72,
    "name": "ml.c5.9xlarge",
    "vcpuNum": 36
   },
   {
    "_defaultOrder": 26,
    "_isFastLaunch": false,
    "category": "Compute optimized",
    "gpuNum": 0,
    "hideHardwareSpecs": false,
    "memoryGiB": 96,
    "name": "ml.c5.12xlarge",
    "vcpuNum": 48
   },
   {
    "_defaultOrder": 27,
    "_isFastLaunch": false,
    "category": "Compute optimized",
    "gpuNum": 0,
    "hideHardwareSpecs": false,
    "memoryGiB": 144,
    "name": "ml.c5.18xlarge",
    "vcpuNum": 72
   },
   {
    "_defaultOrder": 28,
    "_isFastLaunch": false,
    "category": "Compute optimized",
    "gpuNum": 0,
    "hideHardwareSpecs": false,
    "memoryGiB": 192,
    "name": "ml.c5.24xlarge",
    "vcpuNum": 96
   },
   {
    "_defaultOrder": 29,
    "_isFastLaunch": true,
    "category": "Accelerated computing",
    "gpuNum": 1,
    "hideHardwareSpecs": false,
    "memoryGiB": 16,
    "name": "ml.g4dn.xlarge",
    "vcpuNum": 4
   },
   {
    "_defaultOrder": 30,
    "_isFastLaunch": false,
    "category": "Accelerated computing",
    "gpuNum": 1,
    "hideHardwareSpecs": false,
    "memoryGiB": 32,
    "name": "ml.g4dn.2xlarge",
    "vcpuNum": 8
   },
   {
    "_defaultOrder": 31,
    "_isFastLaunch": false,
    "category": "Accelerated computing",
    "gpuNum": 1,
    "hideHardwareSpecs": false,
    "memoryGiB": 64,
    "name": "ml.g4dn.4xlarge",
    "vcpuNum": 16
   },
   {
    "_defaultOrder": 32,
    "_isFastLaunch": false,
    "category": "Accelerated computing",
    "gpuNum": 1,
    "hideHardwareSpecs": false,
    "memoryGiB": 128,
    "name": "ml.g4dn.8xlarge",
    "vcpuNum": 32
   },
   {
    "_defaultOrder": 33,
    "_isFastLaunch": false,
    "category": "Accelerated computing",
    "gpuNum": 4,
    "hideHardwareSpecs": false,
    "memoryGiB": 192,
    "name": "ml.g4dn.12xlarge",
    "vcpuNum": 48
   },
   {
    "_defaultOrder": 34,
    "_isFastLaunch": false,
    "category": "Accelerated computing",
    "gpuNum": 1,
    "hideHardwareSpecs": false,
    "memoryGiB": 256,
    "name": "ml.g4dn.16xlarge",
    "vcpuNum": 64
   },
   {
    "_defaultOrder": 35,
    "_isFastLaunch": false,
    "category": "Accelerated computing",
    "gpuNum": 1,
    "hideHardwareSpecs": false,
    "memoryGiB": 61,
    "name": "ml.p3.2xlarge",
    "vcpuNum": 8
   },
   {
    "_defaultOrder": 36,
    "_isFastLaunch": false,
    "category": "Accelerated computing",
    "gpuNum": 4,
    "hideHardwareSpecs": false,
    "memoryGiB": 244,
    "name": "ml.p3.8xlarge",
    "vcpuNum": 32
   },
   {
    "_defaultOrder": 37,
    "_isFastLaunch": false,
    "category": "Accelerated computing",
    "gpuNum": 8,
    "hideHardwareSpecs": false,
    "memoryGiB": 488,
    "name": "ml.p3.16xlarge",
    "vcpuNum": 64
   },
   {
    "_defaultOrder": 38,
    "_isFastLaunch": false,
    "category": "Accelerated computing",
    "gpuNum": 8,
    "hideHardwareSpecs": false,
    "memoryGiB": 768,
    "name": "ml.p3dn.24xlarge",
    "vcpuNum": 96
   },
   {
    "_defaultOrder": 39,
    "_isFastLaunch": false,
    "category": "Memory Optimized",
    "gpuNum": 0,
    "hideHardwareSpecs": false,
    "memoryGiB": 16,
    "name": "ml.r5.large",
    "vcpuNum": 2
   },
   {
    "_defaultOrder": 40,
    "_isFastLaunch": false,
    "category": "Memory Optimized",
    "gpuNum": 0,
    "hideHardwareSpecs": false,
    "memoryGiB": 32,
    "name": "ml.r5.xlarge",
    "vcpuNum": 4
   },
   {
    "_defaultOrder": 41,
    "_isFastLaunch": false,
    "category": "Memory Optimized",
    "gpuNum": 0,
    "hideHardwareSpecs": false,
    "memoryGiB": 64,
    "name": "ml.r5.2xlarge",
    "vcpuNum": 8
   },
   {
    "_defaultOrder": 42,
    "_isFastLaunch": false,
    "category": "Memory Optimized",
    "gpuNum": 0,
    "hideHardwareSpecs": false,
    "memoryGiB": 128,
    "name": "ml.r5.4xlarge",
    "vcpuNum": 16
   },
   {
    "_defaultOrder": 43,
    "_isFastLaunch": false,
    "category": "Memory Optimized",
    "gpuNum": 0,
    "hideHardwareSpecs": false,
    "memoryGiB": 256,
    "name": "ml.r5.8xlarge",
    "vcpuNum": 32
   },
   {
    "_defaultOrder": 44,
    "_isFastLaunch": false,
    "category": "Memory Optimized",
    "gpuNum": 0,
    "hideHardwareSpecs": false,
    "memoryGiB": 384,
    "name": "ml.r5.12xlarge",
    "vcpuNum": 48
   },
   {
    "_defaultOrder": 45,
    "_isFastLaunch": false,
    "category": "Memory Optimized",
    "gpuNum": 0,
    "hideHardwareSpecs": false,
    "memoryGiB": 512,
    "name": "ml.r5.16xlarge",
    "vcpuNum": 64
   },
   {
    "_defaultOrder": 46,
    "_isFastLaunch": false,
    "category": "Memory Optimized",
    "gpuNum": 0,
    "hideHardwareSpecs": false,
    "memoryGiB": 768,
    "name": "ml.r5.24xlarge",
    "vcpuNum": 96
   },
   {
    "_defaultOrder": 47,
    "_isFastLaunch": false,
    "category": "Accelerated computing",
    "gpuNum": 1,
    "hideHardwareSpecs": false,
    "memoryGiB": 16,
    "name": "ml.g5.xlarge",
    "vcpuNum": 4
   },
   {
    "_defaultOrder": 48,
    "_isFastLaunch": false,
    "category": "Accelerated computing",
    "gpuNum": 1,
    "hideHardwareSpecs": false,
    "memoryGiB": 32,
    "name": "ml.g5.2xlarge",
    "vcpuNum": 8
   },
   {
    "_defaultOrder": 49,
    "_isFastLaunch": false,
    "category": "Accelerated computing",
    "gpuNum": 1,
    "hideHardwareSpecs": false,
    "memoryGiB": 64,
    "name": "ml.g5.4xlarge",
    "vcpuNum": 16
   },
   {
    "_defaultOrder": 50,
    "_isFastLaunch": false,
    "category": "Accelerated computing",
    "gpuNum": 1,
    "hideHardwareSpecs": false,
    "memoryGiB": 128,
    "name": "ml.g5.8xlarge",
    "vcpuNum": 32
   },
   {
    "_defaultOrder": 51,
    "_isFastLaunch": false,
    "category": "Accelerated computing",
    "gpuNum": 1,
    "hideHardwareSpecs": false,
    "memoryGiB": 256,
    "name": "ml.g5.16xlarge",
    "vcpuNum": 64
   },
   {
    "_defaultOrder": 52,
    "_isFastLaunch": false,
    "category": "Accelerated computing",
    "gpuNum": 4,
    "hideHardwareSpecs": false,
    "memoryGiB": 192,
    "name": "ml.g5.12xlarge",
    "vcpuNum": 48
   },
   {
    "_defaultOrder": 53,
    "_isFastLaunch": false,
    "category": "Accelerated computing",
    "gpuNum": 4,
    "hideHardwareSpecs": false,
    "memoryGiB": 384,
    "name": "ml.g5.24xlarge",
    "vcpuNum": 96
   },
   {
    "_defaultOrder": 54,
    "_isFastLaunch": false,
    "category": "Accelerated computing",
    "gpuNum": 8,
    "hideHardwareSpecs": false,
    "memoryGiB": 768,
    "name": "ml.g5.48xlarge",
    "vcpuNum": 192
   },
   {
    "_defaultOrder": 55,
    "_isFastLaunch": false,
    "category": "Accelerated computing",
    "gpuNum": 8,
    "hideHardwareSpecs": false,
    "memoryGiB": 1152,
    "name": "ml.p4d.24xlarge",
    "vcpuNum": 96
   },
   {
    "_defaultOrder": 56,
    "_isFastLaunch": false,
    "category": "Accelerated computing",
    "gpuNum": 8,
    "hideHardwareSpecs": false,
    "memoryGiB": 1152,
    "name": "ml.p4de.24xlarge",
    "vcpuNum": 96
   }
  ],
  "kernelspec": {
   "display_name": "Python 3 (Data Science 3.0)",
   "language": "python",
   "name": "python3__SAGEMAKER_INTERNAL__arn:aws:sagemaker:us-east-1:081325390199:image/sagemaker-data-science-310-v1"
  },
  "language_info": {
   "codemirror_mode": {
    "name": "ipython",
    "version": 3
   },
   "file_extension": ".py",
   "mimetype": "text/x-python",
   "name": "python",
   "nbconvert_exporter": "python",
   "pygments_lexer": "ipython3",
   "version": "3.10.6"
  }
 },
 "nbformat": 4,
 "nbformat_minor": 5
}
